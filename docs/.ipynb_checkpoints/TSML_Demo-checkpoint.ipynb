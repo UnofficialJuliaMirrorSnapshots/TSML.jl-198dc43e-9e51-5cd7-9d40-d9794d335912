{
 "cells": [
  {
   "cell_type": "code",
   "execution_count": 1,
   "metadata": {},
   "outputs": [
    {
     "data": {
      "text/plain": [
       "\"/Users/ppalmes/julia/TSML.jl/Project.toml\""
      ]
     },
     "execution_count": 1,
     "metadata": {},
     "output_type": "execute_result"
    }
   ],
   "source": [
    "using Pkg\n",
    "Pkg.activate(\"..\")"
   ]
  },
  {
   "cell_type": "code",
   "execution_count": 2,
   "metadata": {},
   "outputs": [
    {
     "name": "stderr",
     "output_type": "stream",
     "text": [
      "┌ Info: Recompiling stale cache file /Users/ppalmes/.julia/compiled/v1.0/TSML/6btmi.ji for TSML [486c3eca-181c-11e9-1ec4-1d6993a4262d]\n",
      "└ @ Base loading.jl:1190\n",
      "┌ Info: Recompiling stale cache file /Users/ppalmes/.julia/compiled/v1.0/Plots/ld3vC.ji for Plots [91a5bcdd-55d7-5caf-9e0b-520d859cae80]\n",
      "└ @ Base loading.jl:1190\n"
     ]
    }
   ],
   "source": [
    "ENV[\"LOAD_SK_CARET\"]=\"false\"\n",
    "using TSML\n",
    "using TSML.TSMLTransformers\n",
    "using DataFrames\n",
    "using Dates\n",
    "using CSV\n",
    "using Plots\n",
    "using GR\n",
    "using Random"
   ]
  },
  {
   "cell_type": "code",
   "execution_count": 3,
   "metadata": {},
   "outputs": [
    {
     "data": {
      "text/plain": [
       "DateValNNer(nothing, Dict{Symbol,Any}(:strict=>true,:dateinterval=>1 hour,:nnsize=>1,:missdirection=>:symmetric))"
      ]
     },
     "execution_count": 3,
     "metadata": {},
     "output_type": "execute_result"
    }
   ],
   "source": [
    "fname =\"testdata.csv\"\n",
    "dat = CSV.read(fname)\n",
    "rename!(dat,names(dat)[1]=>:Date,names(dat)[2]=>:Value)\n",
    "dat[:Date] = DateTime.(dat[:Date],\"d/m/y H:M\")\n",
    "orig = deepcopy(dat)\n",
    "filter1 = DateValgator()\n",
    "filter2 = DateValNNer(Dict(:nnsize=>1))"
   ]
  },
  {
   "cell_type": "code",
   "execution_count": 4,
   "metadata": {},
   "outputs": [
    {
     "data": {
      "text/plain": [
       "(5×2 DataFrame\n",
       "│ Row │ Date                │ Value   │\n",
       "│     │ \u001b[90mDateTime\u001b[39m            │ \u001b[90mFloat64\u001b[39m │\n",
       "├─────┼─────────────────────┼─────────┤\n",
       "│ 1   │ 2014-01-01T00:00:00 │ 10.0    │\n",
       "│ 2   │ 2014-01-01T01:00:00 │ 9.9     │\n",
       "│ 3   │ 2014-01-01T02:00:00 │ 10.0    │\n",
       "│ 4   │ 2014-01-01T03:00:00 │ 10.0    │\n",
       "│ 5   │ 2014-01-01T04:00:00 │ 10.0    │, 3830)"
      ]
     },
     "execution_count": 4,
     "metadata": {},
     "output_type": "execute_result"
    }
   ],
   "source": [
    "fit!(filter1,dat,[])\n",
    "res1=transform!(filter1,dat)\n",
    "(first(res1,5),size(res1,1))"
   ]
  },
  {
   "cell_type": "code",
   "execution_count": 5,
   "metadata": {},
   "outputs": [
    {
     "data": {
      "text/plain": [
       "(5×2 DataFrame\n",
       "│ Row │ Date                │ Value    │\n",
       "│     │ \u001b[90mDateTime\u001b[39m            │ \u001b[90mFloat64⍰\u001b[39m │\n",
       "├─────┼─────────────────────┼──────────┤\n",
       "│ 1   │ 2014-01-01T00:00:00 │ 10.0     │\n",
       "│ 2   │ 2014-01-01T01:00:00 │ 9.9      │\n",
       "│ 3   │ 2014-01-01T02:00:00 │ 10.0     │\n",
       "│ 4   │ 2014-01-01T03:00:00 │ 10.0     │\n",
       "│ 5   │ 2014-01-01T04:00:00 │ 10.0     │, 8761)"
      ]
     },
     "execution_count": 5,
     "metadata": {},
     "output_type": "execute_result"
    }
   ],
   "source": [
    "fit!(filter2,res1,[])\n",
    "res2=transform!(filter2,res1)\n",
    "(first(res2,5),size(res2,1))"
   ]
  },
  {
   "cell_type": "code",
   "execution_count": 6,
   "metadata": {},
   "outputs": [
    {
     "data": {
      "text/plain": [
       "Pipeline(nothing, Dict{Symbol,Union{Nothing, Array{Transformer,1}}}(:transformers=>Transformer[DateValgator(Dict{Symbol,Any}(:dateinterval=>1 hour), Dict{Symbol,Any}(:dateinterval=>1 hour)), DateValNNer(Dict{Symbol,Any}(:loopcount=>1,:strict=>true,:dateinterval=>1 hour,:missingcount=>4931,:nnsize=>1,:missdirection=>:symmetric), Dict{Symbol,Any}(:loopcount=>1,:strict=>true,:dateinterval=>1 hour,:missingcount=>4931,:nnsize=>1,:missdirection=>:symmetric))],:transformer_args=>nothing))"
      ]
     },
     "execution_count": 6,
     "metadata": {},
     "output_type": "execute_result"
    }
   ],
   "source": [
    "mypipeline = Pipeline(Dict(\n",
    "        :transformers => [filter1,filter2]\n",
    "    )\n",
    ")"
   ]
  },
  {
   "cell_type": "code",
   "execution_count": 7,
   "metadata": {},
   "outputs": [
    {
     "data": {
      "text/html": [
       "<table class=\"data-frame\"><thead><tr><th></th><th>Date</th><th>Value</th></tr><tr><th></th><th>DateTime</th><th>Float64⍰</th></tr></thead><tbody><p>5 rows × 2 columns</p><tr><th>1</th><td>2014-01-01T00:00:00</td><td>10.0</td></tr><tr><th>2</th><td>2014-01-01T01:00:00</td><td>9.9</td></tr><tr><th>3</th><td>2014-01-01T02:00:00</td><td>10.0</td></tr><tr><th>4</th><td>2014-01-01T03:00:00</td><td>10.0</td></tr><tr><th>5</th><td>2014-01-01T04:00:00</td><td>10.0</td></tr></tbody></table>"
      ],
      "text/latex": [
       "\\begin{tabular}{r|cc}\n",
       "\t& Date & Value\\\\\n",
       "\t\\hline\n",
       "\t& DateTime & Float64⍰\\\\\n",
       "\t\\hline\n",
       "\t1 & 2014-01-01T00:00:00 & 10.0 \\\\\n",
       "\t2 & 2014-01-01T01:00:00 & 9.9 \\\\\n",
       "\t3 & 2014-01-01T02:00:00 & 10.0 \\\\\n",
       "\t4 & 2014-01-01T03:00:00 & 10.0 \\\\\n",
       "\t5 & 2014-01-01T04:00:00 & 10.0 \\\\\n",
       "\\end{tabular}\n"
      ],
      "text/plain": [
       "5×2 DataFrame\n",
       "│ Row │ Date                │ Value    │\n",
       "│     │ \u001b[90mDateTime\u001b[39m            │ \u001b[90mFloat64⍰\u001b[39m │\n",
       "├─────┼─────────────────────┼──────────┤\n",
       "│ 1   │ 2014-01-01T00:00:00 │ 10.0     │\n",
       "│ 2   │ 2014-01-01T01:00:00 │ 9.9      │\n",
       "│ 3   │ 2014-01-01T02:00:00 │ 10.0     │\n",
       "│ 4   │ 2014-01-01T03:00:00 │ 10.0     │\n",
       "│ 5   │ 2014-01-01T04:00:00 │ 10.0     │"
      ]
     },
     "execution_count": 7,
     "metadata": {},
     "output_type": "execute_result"
    }
   ],
   "source": [
    "fit!(mypipeline,dat,[])\n",
    "resp = transform!(mypipeline,dat)\n",
    "first(resp,5)"
   ]
  },
  {
   "cell_type": "code",
   "execution_count": 8,
   "metadata": {},
   "outputs": [
    {
     "data": {
      "text/plain": [
       "transform! (generic function with 21 methods)"
      ]
     },
     "execution_count": 8,
     "metadata": {},
     "output_type": "execute_result"
    }
   ],
   "source": [
    "using TSML.TSMLTypes\n",
    "import TSML.TSMLTypes.fit!\n",
    "import TSML.TSMLTypes.transform!\n",
    "\n",
    "mutable struct CSVDateValReader <: Transformer\n",
    "    model\n",
    "    args\n",
    "    function CSVDateValReader(args=Dict())\n",
    "        default_args = Dict(\n",
    "            :filename => \"\",\n",
    "            :dateformat => \"\"\n",
    "        )\n",
    "        new(nothing,mergedict(default_args,args))\n",
    "    end\n",
    "end\n",
    "function fit!(csvrdr::CSVDateValReader,x::T=[],y::Vector=[]) where {T<:Union{DataFrame,Vector,Matrix}}\n",
    "    fname = csvrdr.args[:filename]\n",
    "    fmt = csvrdr.args[:dateformat]\n",
    "    (fname != \"\" && fmt != \"\") || error(\"missing filename or date format\")\n",
    "    model = csvrdr.args\n",
    "end\n",
    "\n",
    "function transform!(csvrdr::CSVDateValReader,x::T=[]) where {T<:Union{DataFrame,Vector,Matrix}}\n",
    "    fname = csvrdr.args[:filename]\n",
    "    fmt = csvrdr.args[:dateformat]\n",
    "    df = CSV.read(fname)\n",
    "    ncol(df) == 2 || error(\"dataframe should have only two columns: Date,Value\")\n",
    "    rename!(df,names(df)[1]=>:Date,names(df)[2]=>:Value)\n",
    "    df[:Date] = DateTime.(df[:Date],fmt)\n",
    "    df\n",
    "end"
   ]
  },
  {
   "cell_type": "code",
   "execution_count": 9,
   "metadata": {},
   "outputs": [
    {
     "data": {
      "text/html": [
       "<table class=\"data-frame\"><thead><tr><th></th><th>Date</th><th>Value</th></tr><tr><th></th><th>DateTime</th><th>Float64⍰</th></tr></thead><tbody><p>5 rows × 2 columns</p><tr><th>1</th><td>2014-01-01T00:06:00</td><td>10.0</td></tr><tr><th>2</th><td>2014-01-01T00:18:00</td><td>10.0</td></tr><tr><th>3</th><td>2014-01-01T00:29:00</td><td>10.0</td></tr><tr><th>4</th><td>2014-01-01T00:40:00</td><td>9.9</td></tr><tr><th>5</th><td>2014-01-01T00:51:00</td><td>9.9</td></tr></tbody></table>"
      ],
      "text/latex": [
       "\\begin{tabular}{r|cc}\n",
       "\t& Date & Value\\\\\n",
       "\t\\hline\n",
       "\t& DateTime & Float64⍰\\\\\n",
       "\t\\hline\n",
       "\t1 & 2014-01-01T00:06:00 & 10.0 \\\\\n",
       "\t2 & 2014-01-01T00:18:00 & 10.0 \\\\\n",
       "\t3 & 2014-01-01T00:29:00 & 10.0 \\\\\n",
       "\t4 & 2014-01-01T00:40:00 & 9.9 \\\\\n",
       "\t5 & 2014-01-01T00:51:00 & 9.9 \\\\\n",
       "\\end{tabular}\n"
      ],
      "text/plain": [
       "5×2 DataFrame\n",
       "│ Row │ Date                │ Value    │\n",
       "│     │ \u001b[90mDateTime\u001b[39m            │ \u001b[90mFloat64⍰\u001b[39m │\n",
       "├─────┼─────────────────────┼──────────┤\n",
       "│ 1   │ 2014-01-01T00:06:00 │ 10.0     │\n",
       "│ 2   │ 2014-01-01T00:18:00 │ 10.0     │\n",
       "│ 3   │ 2014-01-01T00:29:00 │ 10.0     │\n",
       "│ 4   │ 2014-01-01T00:40:00 │ 9.9      │\n",
       "│ 5   │ 2014-01-01T00:51:00 │ 9.9      │"
      ]
     },
     "execution_count": 9,
     "metadata": {},
     "output_type": "execute_result"
    }
   ],
   "source": [
    "csvreader = CSVDateValReader(Dict(:filename=>\"testdata.csv\",:dateformat=>\"d/m/y H:M\"))\n",
    "fit!(csvreader)\n",
    "res=transform!(csvreader)\n",
    "first(res,5)"
   ]
  },
  {
   "cell_type": "code",
   "execution_count": 10,
   "metadata": {},
   "outputs": [
    {
     "data": {
      "text/html": [
       "<table class=\"data-frame\"><thead><tr><th></th><th>Date</th><th>Value</th></tr><tr><th></th><th>DateTime</th><th>Float64⍰</th></tr></thead><tbody><p>5 rows × 2 columns</p><tr><th>1</th><td>2014-01-01T00:00:00</td><td>10.0</td></tr><tr><th>2</th><td>2014-01-01T01:00:00</td><td>9.9</td></tr><tr><th>3</th><td>2014-01-01T02:00:00</td><td>10.0</td></tr><tr><th>4</th><td>2014-01-01T03:00:00</td><td>10.0</td></tr><tr><th>5</th><td>2014-01-01T04:00:00</td><td>10.0</td></tr></tbody></table>"
      ],
      "text/latex": [
       "\\begin{tabular}{r|cc}\n",
       "\t& Date & Value\\\\\n",
       "\t\\hline\n",
       "\t& DateTime & Float64⍰\\\\\n",
       "\t\\hline\n",
       "\t1 & 2014-01-01T00:00:00 & 10.0 \\\\\n",
       "\t2 & 2014-01-01T01:00:00 & 9.9 \\\\\n",
       "\t3 & 2014-01-01T02:00:00 & 10.0 \\\\\n",
       "\t4 & 2014-01-01T03:00:00 & 10.0 \\\\\n",
       "\t5 & 2014-01-01T04:00:00 & 10.0 \\\\\n",
       "\\end{tabular}\n"
      ],
      "text/plain": [
       "5×2 DataFrame\n",
       "│ Row │ Date                │ Value    │\n",
       "│     │ \u001b[90mDateTime\u001b[39m            │ \u001b[90mFloat64⍰\u001b[39m │\n",
       "├─────┼─────────────────────┼──────────┤\n",
       "│ 1   │ 2014-01-01T00:00:00 │ 10.0     │\n",
       "│ 2   │ 2014-01-01T01:00:00 │ 9.9      │\n",
       "│ 3   │ 2014-01-01T02:00:00 │ 10.0     │\n",
       "│ 4   │ 2014-01-01T03:00:00 │ 10.0     │\n",
       "│ 5   │ 2014-01-01T04:00:00 │ 10.0     │"
      ]
     },
     "execution_count": 10,
     "metadata": {},
     "output_type": "execute_result"
    }
   ],
   "source": [
    "mypipeline = Pipeline(Dict(\n",
    "        :transformers => [csvreader,filter1,filter2]\n",
    "    )\n",
    ")\n",
    "fit!(mypipeline)\n",
    "res=transform!(mypipeline)\n",
    "first(res,5)"
   ]
  },
  {
   "cell_type": "code",
   "execution_count": 11,
   "metadata": {},
   "outputs": [
    {
     "data": {
      "text/plain": [
       "4931"
      ]
     },
     "execution_count": 11,
     "metadata": {},
     "output_type": "execute_result"
    }
   ],
   "source": [
    "filter2.args[:missingcount]"
   ]
  },
  {
   "cell_type": "code",
   "execution_count": 12,
   "metadata": {},
   "outputs": [
    {
     "data": {
      "image/svg+xml": [
       "<?xml version=\"1.0\" encoding=\"utf-8\"?>\n",
       "<svg xmlns=\"http://www.w3.org/2000/svg\" xmlns:xlink=\"http://www.w3.org/1999/xlink\" width=\"600\" height=\"400\" viewBox=\"0 0 2400 1600\">\n",
       "<defs>\n",
       "  <clipPath id=\"clip5300\">\n",
       "    <rect x=\"0\" y=\"0\" width=\"2000\" height=\"2000\"/>\n",
       "  </clipPath>\n",
       "</defs>\n",
       "<defs>\n",
       "  <clipPath id=\"clip5301\">\n",
       "    <rect x=\"0\" y=\"0\" width=\"2400\" height=\"1600\"/>\n",
       "  </clipPath>\n",
       "</defs>\n",
       "<polygon clip-path=\"url(#clip5301)\" points=\"\n",
       "0,1600 2400,1600 2400,0 0,0 \n",
       "  \" fill=\"#ffffff\" fill-rule=\"evenodd\" fill-opacity=\"1\"/>\n",
       "<defs>\n",
       "  <clipPath id=\"clip5302\">\n",
       "    <rect x=\"480\" y=\"0\" width=\"1681\" height=\"1600\"/>\n",
       "  </clipPath>\n",
       "</defs>\n",
       "<polygon clip-path=\"url(#clip5301)\" points=\"\n",
       "189.504,1503.47 2321.26,1503.47 2321.26,47.2441 189.504,47.2441 \n",
       "  \" fill=\"#ffffff\" fill-rule=\"evenodd\" fill-opacity=\"1\"/>\n",
       "<defs>\n",
       "  <clipPath id=\"clip5303\">\n",
       "    <rect x=\"189\" y=\"47\" width=\"2133\" height=\"1457\"/>\n",
       "  </clipPath>\n",
       "</defs>\n",
       "<polyline clip-path=\"url(#clip5303)\" style=\"stroke:#000000; stroke-width:2; stroke-opacity:0.1; fill:none\" points=\"\n",
       "  207.939,1503.47 207.939,47.2441 \n",
       "  \"/>\n",
       "<polyline clip-path=\"url(#clip5303)\" style=\"stroke:#000000; stroke-width:2; stroke-opacity:0.1; fill:none\" points=\"\n",
       "  626.916,1503.47 626.916,47.2441 \n",
       "  \"/>\n",
       "<polyline clip-path=\"url(#clip5303)\" style=\"stroke:#000000; stroke-width:2; stroke-opacity:0.1; fill:none\" points=\"\n",
       "  1045.89,1503.47 1045.89,47.2441 \n",
       "  \"/>\n",
       "<polyline clip-path=\"url(#clip5303)\" style=\"stroke:#000000; stroke-width:2; stroke-opacity:0.1; fill:none\" points=\"\n",
       "  1464.87,1503.47 1464.87,47.2441 \n",
       "  \"/>\n",
       "<polyline clip-path=\"url(#clip5303)\" style=\"stroke:#000000; stroke-width:2; stroke-opacity:0.1; fill:none\" points=\"\n",
       "  1883.85,1503.47 1883.85,47.2441 \n",
       "  \"/>\n",
       "<polyline clip-path=\"url(#clip5303)\" style=\"stroke:#000000; stroke-width:2; stroke-opacity:0.1; fill:none\" points=\"\n",
       "  2302.82,1503.47 2302.82,47.2441 \n",
       "  \"/>\n",
       "<polyline clip-path=\"url(#clip5303)\" style=\"stroke:#000000; stroke-width:2; stroke-opacity:0.1; fill:none\" points=\"\n",
       "  189.504,1262.83 2321.26,1262.83 \n",
       "  \"/>\n",
       "<polyline clip-path=\"url(#clip5303)\" style=\"stroke:#000000; stroke-width:2; stroke-opacity:0.1; fill:none\" points=\"\n",
       "  189.504,1018.73 2321.26,1018.73 \n",
       "  \"/>\n",
       "<polyline clip-path=\"url(#clip5303)\" style=\"stroke:#000000; stroke-width:2; stroke-opacity:0.1; fill:none\" points=\"\n",
       "  189.504,774.627 2321.26,774.627 \n",
       "  \"/>\n",
       "<polyline clip-path=\"url(#clip5303)\" style=\"stroke:#000000; stroke-width:2; stroke-opacity:0.1; fill:none\" points=\"\n",
       "  189.504,530.528 2321.26,530.528 \n",
       "  \"/>\n",
       "<polyline clip-path=\"url(#clip5303)\" style=\"stroke:#000000; stroke-width:2; stroke-opacity:0.1; fill:none\" points=\"\n",
       "  189.504,286.429 2321.26,286.429 \n",
       "  \"/>\n",
       "<polyline clip-path=\"url(#clip5301)\" style=\"stroke:#000000; stroke-width:4; stroke-opacity:1; fill:none\" points=\"\n",
       "  189.504,1503.47 2321.26,1503.47 \n",
       "  \"/>\n",
       "<polyline clip-path=\"url(#clip5301)\" style=\"stroke:#000000; stroke-width:4; stroke-opacity:1; fill:none\" points=\"\n",
       "  189.504,1503.47 189.504,47.2441 \n",
       "  \"/>\n",
       "<polyline clip-path=\"url(#clip5301)\" style=\"stroke:#000000; stroke-width:4; stroke-opacity:1; fill:none\" points=\"\n",
       "  207.939,1503.47 207.939,1481.63 \n",
       "  \"/>\n",
       "<polyline clip-path=\"url(#clip5301)\" style=\"stroke:#000000; stroke-width:4; stroke-opacity:1; fill:none\" points=\"\n",
       "  626.916,1503.47 626.916,1481.63 \n",
       "  \"/>\n",
       "<polyline clip-path=\"url(#clip5301)\" style=\"stroke:#000000; stroke-width:4; stroke-opacity:1; fill:none\" points=\"\n",
       "  1045.89,1503.47 1045.89,1481.63 \n",
       "  \"/>\n",
       "<polyline clip-path=\"url(#clip5301)\" style=\"stroke:#000000; stroke-width:4; stroke-opacity:1; fill:none\" points=\"\n",
       "  1464.87,1503.47 1464.87,1481.63 \n",
       "  \"/>\n",
       "<polyline clip-path=\"url(#clip5301)\" style=\"stroke:#000000; stroke-width:4; stroke-opacity:1; fill:none\" points=\"\n",
       "  1883.85,1503.47 1883.85,1481.63 \n",
       "  \"/>\n",
       "<polyline clip-path=\"url(#clip5301)\" style=\"stroke:#000000; stroke-width:4; stroke-opacity:1; fill:none\" points=\"\n",
       "  2302.82,1503.47 2302.82,1481.63 \n",
       "  \"/>\n",
       "<polyline clip-path=\"url(#clip5301)\" style=\"stroke:#000000; stroke-width:4; stroke-opacity:1; fill:none\" points=\"\n",
       "  189.504,1262.83 221.48,1262.83 \n",
       "  \"/>\n",
       "<polyline clip-path=\"url(#clip5301)\" style=\"stroke:#000000; stroke-width:4; stroke-opacity:1; fill:none\" points=\"\n",
       "  189.504,1018.73 221.48,1018.73 \n",
       "  \"/>\n",
       "<polyline clip-path=\"url(#clip5301)\" style=\"stroke:#000000; stroke-width:4; stroke-opacity:1; fill:none\" points=\"\n",
       "  189.504,774.627 221.48,774.627 \n",
       "  \"/>\n",
       "<polyline clip-path=\"url(#clip5301)\" style=\"stroke:#000000; stroke-width:4; stroke-opacity:1; fill:none\" points=\"\n",
       "  189.504,530.528 221.48,530.528 \n",
       "  \"/>\n",
       "<polyline clip-path=\"url(#clip5301)\" style=\"stroke:#000000; stroke-width:4; stroke-opacity:1; fill:none\" points=\"\n",
       "  189.504,286.429 221.48,286.429 \n",
       "  \"/>\n",
       "<g clip-path=\"url(#clip5301)\">\n",
       "<text style=\"fill:#000000; fill-opacity:1; font-family:Arial,Helvetica Neue,Helvetica,sans-serif; font-size:48px; text-anchor:middle;\" transform=\"rotate(0, 207.939, 1557.47)\" x=\"207.939\" y=\"1557.47\">0</text>\n",
       "</g>\n",
       "<g clip-path=\"url(#clip5301)\">\n",
       "<text style=\"fill:#000000; fill-opacity:1; font-family:Arial,Helvetica Neue,Helvetica,sans-serif; font-size:48px; text-anchor:middle;\" transform=\"rotate(0, 626.916, 1557.47)\" x=\"626.916\" y=\"1557.47\">10</text>\n",
       "</g>\n",
       "<g clip-path=\"url(#clip5301)\">\n",
       "<text style=\"fill:#000000; fill-opacity:1; font-family:Arial,Helvetica Neue,Helvetica,sans-serif; font-size:48px; text-anchor:middle;\" transform=\"rotate(0, 1045.89, 1557.47)\" x=\"1045.89\" y=\"1557.47\">20</text>\n",
       "</g>\n",
       "<g clip-path=\"url(#clip5301)\">\n",
       "<text style=\"fill:#000000; fill-opacity:1; font-family:Arial,Helvetica Neue,Helvetica,sans-serif; font-size:48px; text-anchor:middle;\" transform=\"rotate(0, 1464.87, 1557.47)\" x=\"1464.87\" y=\"1557.47\">30</text>\n",
       "</g>\n",
       "<g clip-path=\"url(#clip5301)\">\n",
       "<text style=\"fill:#000000; fill-opacity:1; font-family:Arial,Helvetica Neue,Helvetica,sans-serif; font-size:48px; text-anchor:middle;\" transform=\"rotate(0, 1883.85, 1557.47)\" x=\"1883.85\" y=\"1557.47\">40</text>\n",
       "</g>\n",
       "<g clip-path=\"url(#clip5301)\">\n",
       "<text style=\"fill:#000000; fill-opacity:1; font-family:Arial,Helvetica Neue,Helvetica,sans-serif; font-size:48px; text-anchor:middle;\" transform=\"rotate(0, 2302.82, 1557.47)\" x=\"2302.82\" y=\"1557.47\">50</text>\n",
       "</g>\n",
       "<g clip-path=\"url(#clip5301)\">\n",
       "<text style=\"fill:#000000; fill-opacity:1; font-family:Arial,Helvetica Neue,Helvetica,sans-serif; font-size:48px; text-anchor:end;\" transform=\"rotate(0, 165.504, 1280.33)\" x=\"165.504\" y=\"1280.33\">-1.0</text>\n",
       "</g>\n",
       "<g clip-path=\"url(#clip5301)\">\n",
       "<text style=\"fill:#000000; fill-opacity:1; font-family:Arial,Helvetica Neue,Helvetica,sans-serif; font-size:48px; text-anchor:end;\" transform=\"rotate(0, 165.504, 1036.23)\" x=\"165.504\" y=\"1036.23\">-0.5</text>\n",
       "</g>\n",
       "<g clip-path=\"url(#clip5301)\">\n",
       "<text style=\"fill:#000000; fill-opacity:1; font-family:Arial,Helvetica Neue,Helvetica,sans-serif; font-size:48px; text-anchor:end;\" transform=\"rotate(0, 165.504, 792.127)\" x=\"165.504\" y=\"792.127\">0.0</text>\n",
       "</g>\n",
       "<g clip-path=\"url(#clip5301)\">\n",
       "<text style=\"fill:#000000; fill-opacity:1; font-family:Arial,Helvetica Neue,Helvetica,sans-serif; font-size:48px; text-anchor:end;\" transform=\"rotate(0, 165.504, 548.028)\" x=\"165.504\" y=\"548.028\">0.5</text>\n",
       "</g>\n",
       "<g clip-path=\"url(#clip5301)\">\n",
       "<text style=\"fill:#000000; fill-opacity:1; font-family:Arial,Helvetica Neue,Helvetica,sans-serif; font-size:48px; text-anchor:end;\" transform=\"rotate(0, 165.504, 303.929)\" x=\"165.504\" y=\"303.929\">1.0</text>\n",
       "</g>\n",
       "<polyline clip-path=\"url(#clip5303)\" style=\"stroke:#009af9; stroke-width:4; stroke-opacity:1; fill:none\" points=\"\n",
       "  249.837,100.047 291.735,176.629 333.632,470.474 375.53,735.85 417.428,839.216 459.325,1186.97 501.223,1371.37 543.121,1437.9 585.019,1447.11 626.916,1291.67 \n",
       "  668.814,1133.75 710.712,910.294 752.609,602.551 794.507,356.105 836.405,195.744 878.303,89.9155 920.2,199.66 962.098,309.404 1004,544.786 1045.89,765.087 \n",
       "  1087.79,985.389 1129.69,1141.73 1171.59,1377.13 1213.48,1462.26 1255.38,1413.25 1297.28,1278.83 1339.18,1123.8 1381.08,692.642 1422.97,432.155 1464.87,270.29 \n",
       "  1506.77,156.578 1548.67,88.6407 1590.56,125.65 1632.46,246.442 1674.36,556.858 1716.26,724.633 1758.15,996.398 1800.05,1207.38 1841.95,1423.93 1883.85,1462.04 \n",
       "  1925.75,1408.74 1967.64,1198.23 2009.54,987.71 2051.44,784.389 2093.34,422.124 2135.23,199.72 2177.13,122.58 2219.03,89.1121 2260.93,129.703 \n",
       "  \"/>\n",
       "<polyline clip-path=\"url(#clip5303)\" style=\"stroke:#e26f46; stroke-width:4; stroke-opacity:1; fill:none\" points=\"\n",
       "  249.837,109.072 291.735,192.091 333.632,381.758 375.53,633.45 417.428,907.431 459.325,1160.45 501.223,1352.55 543.121,1453.41 585.019,1447.11 626.916,1334.63 \n",
       "  668.814,1133.75 710.712,876.164 752.609,602.551 794.507,356.105 836.405,175.734 878.303,89.9155 920.2,112.198 962.098,239.063 1004,450.482 1045.89,713.077 \n",
       "  1087.79,985.389 1129.69,1224.43 1171.59,1392.45 1213.48,1461.56 1255.38,1424.75 1297.28,1283.92 1339.18,1062.69 1381.08,795.981 1422.97,525.899 1464.87,295.086 \n",
       "  1506.77,139.982 1548.67,88.4582 1590.56,139.032 1632.46,293.336 1674.36,523.625 1716.26,793.543 1758.15,1060.47 1800.05,1282.28 1841.95,1423.93 1883.85,1461.58 \n",
       "  1925.75,1393.53 1967.64,1226.27 2009.54,987.71 2051.44,715.507 2093.34,452.637 2135.23,240.603 2177.13,112.879 2219.03,89.6312 2260.93,157.532 \n",
       "  \"/>\n",
       "<polygon clip-path=\"url(#clip5301)\" points=\"\n",
       "1958.43,312.204 2249.26,312.204 2249.26,130.764 1958.43,130.764 \n",
       "  \" fill=\"#ffffff\" fill-rule=\"evenodd\" fill-opacity=\"1\"/>\n",
       "<polyline clip-path=\"url(#clip5301)\" style=\"stroke:#000000; stroke-width:4; stroke-opacity:1; fill:none\" points=\"\n",
       "  1958.43,312.204 2249.26,312.204 2249.26,130.764 1958.43,130.764 1958.43,312.204 \n",
       "  \"/>\n",
       "<polyline clip-path=\"url(#clip5301)\" style=\"stroke:#009af9; stroke-width:4; stroke-opacity:1; fill:none\" points=\"\n",
       "  1982.43,191.244 2126.43,191.244 \n",
       "  \"/>\n",
       "<g clip-path=\"url(#clip5301)\">\n",
       "<text style=\"fill:#000000; fill-opacity:1; font-family:Arial,Helvetica Neue,Helvetica,sans-serif; font-size:48px; text-anchor:start;\" transform=\"rotate(0, 2150.43, 208.744)\" x=\"2150.43\" y=\"208.744\">y1</text>\n",
       "</g>\n",
       "<polyline clip-path=\"url(#clip5301)\" style=\"stroke:#e26f46; stroke-width:4; stroke-opacity:1; fill:none\" points=\"\n",
       "  1982.43,251.724 2126.43,251.724 \n",
       "  \"/>\n",
       "<g clip-path=\"url(#clip5301)\">\n",
       "<text style=\"fill:#000000; fill-opacity:1; font-family:Arial,Helvetica Neue,Helvetica,sans-serif; font-size:48px; text-anchor:start;\" transform=\"rotate(0, 2150.43, 269.224)\" x=\"2150.43\" y=\"269.224\">y2</text>\n",
       "</g>\n",
       "</svg>\n"
      ]
     },
     "execution_count": 12,
     "metadata": {},
     "output_type": "execute_result"
    }
   ],
   "source": [
    "mydate=DateTime(2014,1,1):Dates.Minute(15):DateTime(2014,1,3) # 15 minutes interval\n",
    "values = Array{Union{Float64,Missing}}(sin.(1:0.1:length(mydate)) .+ cos.(1:0.1:length(mydate)))[1:length(mydate)];\n",
    "x = DataFrame(Date=mydate,Value=values); xx = deepcopy(x);first(x,10)\n",
    "nmissing=floor(nrow(x) * 0.50) |> Integer\n",
    "ndxmissing=Random.shuffle(1:nrow(x))[1:nmissing]\n",
    "x[:Value][ndxmissing] .= missing; first(x,15)\n",
    "dvtr = TSML.DateValgator()\n",
    "TSML.fit!(dvtr,x,[]);TSML.fit!(dvtr,xx,[])\n",
    "inputx = TSML.transform!(dvtr,x); inputxx = TSML.transform!(dvtr,xx);\n",
    "dvnnr = TSML.DateValNNer(Dict(:dateinterval=>Dates.Hour(1),:nnsize=>1))\n",
    "TSML.fit!(dvnnr,inputx,[])\n",
    "pred_y=TSML.transform!(dvnnr,inputx);pred_yy=TSML.transform!(dvnnr,inputxx);\n",
    "Plots.plot([pred_y[:Value],pred_yy[:Value]])"
   ]
  },
  {
   "cell_type": "code",
   "execution_count": 13,
   "metadata": {},
   "outputs": [
    {
     "data": {
      "text/plain": [
       "0.1696288776926687"
      ]
     },
     "execution_count": 13,
     "metadata": {},
     "output_type": "execute_result"
    }
   ],
   "source": [
    "sqrt(sum(pred_y[:Value]-pred_yy[:Value]).^2)"
   ]
  },
  {
   "cell_type": "code",
   "execution_count": 14,
   "metadata": {},
   "outputs": [],
   "source": [
    "rename!(pred_y,:Value=>:MissingVals);"
   ]
  },
  {
   "cell_type": "code",
   "execution_count": 15,
   "metadata": {},
   "outputs": [
    {
     "data": {
      "text/html": [
       "<table class=\"data-frame\"><thead><tr><th></th><th>Date</th><th>MissingVals</th><th>Value</th><th>error</th></tr><tr><th></th><th>DateTime</th><th>Float64⍰</th><th>Float64⍰</th><th>Float64</th></tr></thead><tbody><p>49 rows × 4 columns</p><tr><th>1</th><td>2014-01-01T00:00:00</td><td>1.38177</td><td>1.36329</td><td>0.000341692</td></tr><tr><th>2</th><td>2014-01-01T01:00:00</td><td>1.22491</td><td>1.19324</td><td>0.00100298</td></tr><tr><th>3</th><td>2014-01-01T02:00:00</td><td>0.623011</td><td>0.804733</td><td>0.033023</td></tr><tr><th>4</th><td>2014-01-01T03:00:00</td><td>0.0794292</td><td>0.289179</td><td>0.0439951</td></tr><tr><th>5</th><td>2014-01-01T04:00:00</td><td>-0.132301</td><td>-0.272029</td><td>0.019524</td></tr><tr><th>6</th><td>2014-01-01T05:00:00</td><td>-0.844632</td><td>-0.790291</td><td>0.00295294</td></tr><tr><th>7</th><td>2014-01-01T06:00:00</td><td>-1.22234</td><td>-1.18378</td><td>0.00148664</td></tr><tr><th>8</th><td>2014-01-01T07:00:00</td><td>-1.35861</td><td>-1.39038</td><td>0.00100955</td></tr><tr><th>9</th><td>2014-01-01T08:00:00</td><td>-1.37747</td><td>-1.37747</td><td>0.0</td></tr><tr><th>10</th><td>2014-01-01T09:00:00</td><td>-1.05908</td><td>-1.14708</td><td>0.00774523</td></tr><tr><th>11</th><td>2014-01-01T10:00:00</td><td>-0.735601</td><td>-0.735601</td><td>0.0</td></tr><tr><th>12</th><td>2014-01-01T11:00:00</td><td>-0.277893</td><td>-0.207982</td><td>0.00488751</td></tr><tr><th>13</th><td>2014-01-01T12:00:00</td><td>0.352472</td><td>0.352472</td><td>0.0</td></tr><tr><th>14</th><td>2014-01-01T13:00:00</td><td>0.857279</td><td>0.857279</td><td>0.0</td></tr><tr><th>15</th><td>2014-01-01T14:00:00</td><td>1.18575</td><td>1.22674</td><td>0.00167991</td></tr><tr><th>16</th><td>2014-01-01T15:00:00</td><td>1.40253</td><td>1.40253</td><td>0.0</td></tr><tr><th>17</th><td>2014-01-01T16:00:00</td><td>1.17773</td><td>1.35688</td><td>0.0320953</td></tr><tr><th>18</th><td>2014-01-01T17:00:00</td><td>0.952939</td><td>1.09702</td><td>0.0207594</td></tr><tr><th>19</th><td>2014-01-01T18:00:00</td><td>0.470795</td><td>0.663961</td><td>0.037313</td></tr><tr><th>20</th><td>2014-01-01T19:00:00</td><td>0.019541</td><td>0.126076</td><td>0.0113497</td></tr><tr><th>21</th><td>2014-01-01T20:00:00</td><td>-0.431713</td><td>-0.431713</td><td>0.0</td></tr><tr><th>22</th><td>2014-01-01T21:00:00</td><td>-0.751954</td><td>-0.921344</td><td>0.0286932</td></tr><tr><th>23</th><td>2014-01-01T22:00:00</td><td>-1.23413</td><td>-1.26552</td><td>0.000985329</td></tr><tr><th>24</th><td>2014-01-01T23:00:00</td><td>-1.40851</td><td>-1.40708</td><td>2.0641e-6</td></tr><tr><th>25</th><td>2014-01-02T00:00:00</td><td>-1.30811</td><td>-1.33167</td><td>0.000555052</td></tr><tr><th>26</th><td>2014-01-02T01:00:00</td><td>-1.03279</td><td>-1.04321</td><td>0.000108648</td></tr><tr><th>27</th><td>2014-01-02T02:00:00</td><td>-0.715223</td><td>-0.590056</td><td>0.0156669</td></tr><tr><th>28</th><td>2014-01-02T03:00:00</td><td>0.167933</td><td>-0.0437399</td><td>0.0448055</td></tr><tr><th>29</th><td>2014-01-02T04:00:00</td><td>0.701501</td><td>0.509482</td><td>0.0368714</td></tr><tr><th>30</th><td>2014-01-02T05:00:00</td><td>1.03306</td><td>0.982267</td><td>0.00257969</td></tr><tr><th>&vellip;</th><td>&vellip;</td><td>&vellip;</td><td>&vellip;</td><td>&vellip;</td></tr></tbody></table>"
      ],
      "text/latex": [
       "\\begin{tabular}{r|cccc}\n",
       "\t& Date & MissingVals & Value & error\\\\\n",
       "\t\\hline\n",
       "\t& DateTime & Float64⍰ & Float64⍰ & Float64\\\\\n",
       "\t\\hline\n",
       "\t1 & 2014-01-01T00:00:00 & 1.38177 & 1.36329 & 0.000341692 \\\\\n",
       "\t2 & 2014-01-01T01:00:00 & 1.22491 & 1.19324 & 0.00100298 \\\\\n",
       "\t3 & 2014-01-01T02:00:00 & 0.623011 & 0.804733 & 0.033023 \\\\\n",
       "\t4 & 2014-01-01T03:00:00 & 0.0794292 & 0.289179 & 0.0439951 \\\\\n",
       "\t5 & 2014-01-01T04:00:00 & -0.132301 & -0.272029 & 0.019524 \\\\\n",
       "\t6 & 2014-01-01T05:00:00 & -0.844632 & -0.790291 & 0.00295294 \\\\\n",
       "\t7 & 2014-01-01T06:00:00 & -1.22234 & -1.18378 & 0.00148664 \\\\\n",
       "\t8 & 2014-01-01T07:00:00 & -1.35861 & -1.39038 & 0.00100955 \\\\\n",
       "\t9 & 2014-01-01T08:00:00 & -1.37747 & -1.37747 & 0.0 \\\\\n",
       "\t10 & 2014-01-01T09:00:00 & -1.05908 & -1.14708 & 0.00774523 \\\\\n",
       "\t11 & 2014-01-01T10:00:00 & -0.735601 & -0.735601 & 0.0 \\\\\n",
       "\t12 & 2014-01-01T11:00:00 & -0.277893 & -0.207982 & 0.00488751 \\\\\n",
       "\t13 & 2014-01-01T12:00:00 & 0.352472 & 0.352472 & 0.0 \\\\\n",
       "\t14 & 2014-01-01T13:00:00 & 0.857279 & 0.857279 & 0.0 \\\\\n",
       "\t15 & 2014-01-01T14:00:00 & 1.18575 & 1.22674 & 0.00167991 \\\\\n",
       "\t16 & 2014-01-01T15:00:00 & 1.40253 & 1.40253 & 0.0 \\\\\n",
       "\t17 & 2014-01-01T16:00:00 & 1.17773 & 1.35688 & 0.0320953 \\\\\n",
       "\t18 & 2014-01-01T17:00:00 & 0.952939 & 1.09702 & 0.0207594 \\\\\n",
       "\t19 & 2014-01-01T18:00:00 & 0.470795 & 0.663961 & 0.037313 \\\\\n",
       "\t20 & 2014-01-01T19:00:00 & 0.019541 & 0.126076 & 0.0113497 \\\\\n",
       "\t21 & 2014-01-01T20:00:00 & -0.431713 & -0.431713 & 0.0 \\\\\n",
       "\t22 & 2014-01-01T21:00:00 & -0.751954 & -0.921344 & 0.0286932 \\\\\n",
       "\t23 & 2014-01-01T22:00:00 & -1.23413 & -1.26552 & 0.000985329 \\\\\n",
       "\t24 & 2014-01-01T23:00:00 & -1.40851 & -1.40708 & 2.0641e-6 \\\\\n",
       "\t25 & 2014-01-02T00:00:00 & -1.30811 & -1.33167 & 0.000555052 \\\\\n",
       "\t26 & 2014-01-02T01:00:00 & -1.03279 & -1.04321 & 0.000108648 \\\\\n",
       "\t27 & 2014-01-02T02:00:00 & -0.715223 & -0.590056 & 0.0156669 \\\\\n",
       "\t28 & 2014-01-02T03:00:00 & 0.167933 & -0.0437399 & 0.0448055 \\\\\n",
       "\t29 & 2014-01-02T04:00:00 & 0.701501 & 0.509482 & 0.0368714 \\\\\n",
       "\t30 & 2014-01-02T05:00:00 & 1.03306 & 0.982267 & 0.00257969 \\\\\n",
       "\t$\\dots$ & $\\dots$ & $\\dots$ & $\\dots$ & $\\dots$ \\\\\n",
       "\\end{tabular}\n"
      ],
      "text/plain": [
       "49×4 DataFrame\n",
       "│ Row │ Date                │ MissingVals │ Value     │ error       │\n",
       "│     │ \u001b[90mDateTime\u001b[39m            │ \u001b[90mFloat64⍰\u001b[39m    │ \u001b[90mFloat64⍰\u001b[39m  │ \u001b[90mFloat64\u001b[39m     │\n",
       "├─────┼─────────────────────┼─────────────┼───────────┼─────────────┤\n",
       "│ 1   │ 2014-01-01T00:00:00 │ 1.38177     │ 1.36329   │ 0.000341692 │\n",
       "│ 2   │ 2014-01-01T01:00:00 │ 1.22491     │ 1.19324   │ 0.00100298  │\n",
       "│ 3   │ 2014-01-01T02:00:00 │ 0.623011    │ 0.804733  │ 0.033023    │\n",
       "│ 4   │ 2014-01-01T03:00:00 │ 0.0794292   │ 0.289179  │ 0.0439951   │\n",
       "│ 5   │ 2014-01-01T04:00:00 │ -0.132301   │ -0.272029 │ 0.019524    │\n",
       "│ 6   │ 2014-01-01T05:00:00 │ -0.844632   │ -0.790291 │ 0.00295294  │\n",
       "│ 7   │ 2014-01-01T06:00:00 │ -1.22234    │ -1.18378  │ 0.00148664  │\n",
       "│ 8   │ 2014-01-01T07:00:00 │ -1.35861    │ -1.39038  │ 0.00100955  │\n",
       "│ 9   │ 2014-01-01T08:00:00 │ -1.37747    │ -1.37747  │ 0.0         │\n",
       "│ 10  │ 2014-01-01T09:00:00 │ -1.05908    │ -1.14708  │ 0.00774523  │\n",
       "⋮\n",
       "│ 39  │ 2014-01-02T14:00:00 │ -1.33       │ -1.33     │ 0.0         │\n",
       "│ 40  │ 2014-01-02T15:00:00 │ -1.40805    │ -1.40712  │ 8.78465e-7  │\n",
       "│ 41  │ 2014-01-02T16:00:00 │ -1.29889    │ -1.26773  │ 0.000971302 │\n",
       "│ 42  │ 2014-01-02T17:00:00 │ -0.86768    │ -0.925126 │ 0.0033      │\n",
       "│ 43  │ 2014-01-02T18:00:00 │ -0.436468   │ -0.436468 │ 0.0         │\n",
       "│ 44  │ 2014-01-02T19:00:00 │ -0.0199964  │ 0.121099  │ 0.0199078   │\n",
       "│ 45  │ 2014-01-02T20:00:00 │ 0.722049    │ 0.659546  │ 0.00390652  │\n",
       "│ 46  │ 2014-01-02T21:00:00 │ 1.17761     │ 1.09387   │ 0.00701289  │\n",
       "│ 47  │ 2014-01-02T22:00:00 │ 1.33562     │ 1.35549   │ 0.000394795 │\n",
       "│ 48  │ 2014-01-02T23:00:00 │ 1.40417     │ 1.40311   │ 1.13087e-6  │\n",
       "│ 49  │ 2014-01-03T00:00:00 │ 1.32103     │ 1.26403   │ 0.00324921  │"
      ]
     },
     "execution_count": 15,
     "metadata": {},
     "output_type": "execute_result"
    }
   ],
   "source": [
    "jx = join(pred_y,pred_yy,on=:Date)\n",
    "jx[:error] = (jx[:MissingVals] .- jx[:Value]).^2;jx"
   ]
  }
 ],
 "metadata": {
  "kernelspec": {
   "display_name": "Julia 1.0.3",
   "language": "julia",
   "name": "julia-1.0"
  },
  "language_info": {
   "file_extension": ".jl",
   "mimetype": "application/julia",
   "name": "julia",
   "version": "1.0.3"
  }
 },
 "nbformat": 4,
 "nbformat_minor": 2
}
