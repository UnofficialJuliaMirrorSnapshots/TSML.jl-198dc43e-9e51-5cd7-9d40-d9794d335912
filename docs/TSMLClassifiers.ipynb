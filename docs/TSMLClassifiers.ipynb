{
 "cells": [
  {
   "cell_type": "markdown",
   "metadata": {
    "slideshow": {
     "slide_type": "slide"
    }
   },
   "source": [
    "# Time Series Classification Demo"
   ]
  },
  {
   "cell_type": "code",
   "execution_count": 7,
   "metadata": {},
   "outputs": [],
   "source": [
    "using Plots"
   ]
  },
  {
   "cell_type": "code",
   "execution_count": 8,
   "metadata": {},
   "outputs": [
    {
     "data": {
      "image/svg+xml": [
       "<?xml version=\"1.0\" encoding=\"utf-8\"?>\n",
       "<svg xmlns=\"http://www.w3.org/2000/svg\" xmlns:xlink=\"http://www.w3.org/1999/xlink\" width=\"600\" height=\"400\" viewBox=\"0 0 2400 1600\">\n",
       "<defs>\n",
       "  <clipPath id=\"clip7800\">\n",
       "    <rect x=\"0\" y=\"0\" width=\"2400\" height=\"1600\"/>\n",
       "  </clipPath>\n",
       "</defs>\n",
       "<polygon clip-path=\"url(#clip7800)\" points=\"\n",
       "0,1600 2400,1600 2400,0 0,0 \n",
       "  \" fill=\"#ffffff\" fill-rule=\"evenodd\" fill-opacity=\"1\"/>\n",
       "<defs>\n",
       "  <clipPath id=\"clip7801\">\n",
       "    <rect x=\"480\" y=\"0\" width=\"1681\" height=\"1600\"/>\n",
       "  </clipPath>\n",
       "</defs>\n",
       "<polygon clip-path=\"url(#clip7800)\" points=\"\n",
       "180.66,1487.47 2352.76,1487.47 2352.76,47.2441 180.66,47.2441 \n",
       "  \" fill=\"#ffffff\" fill-rule=\"evenodd\" fill-opacity=\"1\"/>\n",
       "<defs>\n",
       "  <clipPath id=\"clip7802\">\n",
       "    <rect x=\"180\" y=\"47\" width=\"2173\" height=\"1441\"/>\n",
       "  </clipPath>\n",
       "</defs>\n",
       "<polyline clip-path=\"url(#clip7802)\" style=\"stroke:#000000; stroke-width:2; stroke-opacity:0.1; fill:none\" points=\"\n",
       "  469.818,1487.47 469.818,47.2441 \n",
       "  \"/>\n",
       "<polyline clip-path=\"url(#clip7802)\" style=\"stroke:#000000; stroke-width:2; stroke-opacity:0.1; fill:none\" points=\"\n",
       "  925.184,1487.47 925.184,47.2441 \n",
       "  \"/>\n",
       "<polyline clip-path=\"url(#clip7802)\" style=\"stroke:#000000; stroke-width:2; stroke-opacity:0.1; fill:none\" points=\"\n",
       "  1380.55,1487.47 1380.55,47.2441 \n",
       "  \"/>\n",
       "<polyline clip-path=\"url(#clip7802)\" style=\"stroke:#000000; stroke-width:2; stroke-opacity:0.1; fill:none\" points=\"\n",
       "  1835.92,1487.47 1835.92,47.2441 \n",
       "  \"/>\n",
       "<polyline clip-path=\"url(#clip7802)\" style=\"stroke:#000000; stroke-width:2; stroke-opacity:0.1; fill:none\" points=\"\n",
       "  2291.28,1487.47 2291.28,47.2441 \n",
       "  \"/>\n",
       "<polyline clip-path=\"url(#clip7802)\" style=\"stroke:#000000; stroke-width:2; stroke-opacity:0.1; fill:none\" points=\"\n",
       "  180.66,1449.29 2352.76,1449.29 \n",
       "  \"/>\n",
       "<polyline clip-path=\"url(#clip7802)\" style=\"stroke:#000000; stroke-width:2; stroke-opacity:0.1; fill:none\" points=\"\n",
       "  180.66,1103.15 2352.76,1103.15 \n",
       "  \"/>\n",
       "<polyline clip-path=\"url(#clip7802)\" style=\"stroke:#000000; stroke-width:2; stroke-opacity:0.1; fill:none\" points=\"\n",
       "  180.66,757.005 2352.76,757.005 \n",
       "  \"/>\n",
       "<polyline clip-path=\"url(#clip7802)\" style=\"stroke:#000000; stroke-width:2; stroke-opacity:0.1; fill:none\" points=\"\n",
       "  180.66,410.864 2352.76,410.864 \n",
       "  \"/>\n",
       "<polyline clip-path=\"url(#clip7802)\" style=\"stroke:#000000; stroke-width:2; stroke-opacity:0.1; fill:none\" points=\"\n",
       "  180.66,64.722 2352.76,64.722 \n",
       "  \"/>\n",
       "<polyline clip-path=\"url(#clip7800)\" style=\"stroke:#000000; stroke-width:4; stroke-opacity:1; fill:none\" points=\"\n",
       "  180.66,1487.47 2352.76,1487.47 \n",
       "  \"/>\n",
       "<polyline clip-path=\"url(#clip7800)\" style=\"stroke:#000000; stroke-width:4; stroke-opacity:1; fill:none\" points=\"\n",
       "  180.66,1487.47 180.66,47.2441 \n",
       "  \"/>\n",
       "<polyline clip-path=\"url(#clip7800)\" style=\"stroke:#000000; stroke-width:4; stroke-opacity:1; fill:none\" points=\"\n",
       "  469.818,1487.47 469.818,1465.87 \n",
       "  \"/>\n",
       "<polyline clip-path=\"url(#clip7800)\" style=\"stroke:#000000; stroke-width:4; stroke-opacity:1; fill:none\" points=\"\n",
       "  925.184,1487.47 925.184,1465.87 \n",
       "  \"/>\n",
       "<polyline clip-path=\"url(#clip7800)\" style=\"stroke:#000000; stroke-width:4; stroke-opacity:1; fill:none\" points=\"\n",
       "  1380.55,1487.47 1380.55,1465.87 \n",
       "  \"/>\n",
       "<polyline clip-path=\"url(#clip7800)\" style=\"stroke:#000000; stroke-width:4; stroke-opacity:1; fill:none\" points=\"\n",
       "  1835.92,1487.47 1835.92,1465.87 \n",
       "  \"/>\n",
       "<polyline clip-path=\"url(#clip7800)\" style=\"stroke:#000000; stroke-width:4; stroke-opacity:1; fill:none\" points=\"\n",
       "  2291.28,1487.47 2291.28,1465.87 \n",
       "  \"/>\n",
       "<polyline clip-path=\"url(#clip7800)\" style=\"stroke:#000000; stroke-width:4; stroke-opacity:1; fill:none\" points=\"\n",
       "  180.66,1449.29 213.242,1449.29 \n",
       "  \"/>\n",
       "<polyline clip-path=\"url(#clip7800)\" style=\"stroke:#000000; stroke-width:4; stroke-opacity:1; fill:none\" points=\"\n",
       "  180.66,1103.15 213.242,1103.15 \n",
       "  \"/>\n",
       "<polyline clip-path=\"url(#clip7800)\" style=\"stroke:#000000; stroke-width:4; stroke-opacity:1; fill:none\" points=\"\n",
       "  180.66,757.005 213.242,757.005 \n",
       "  \"/>\n",
       "<polyline clip-path=\"url(#clip7800)\" style=\"stroke:#000000; stroke-width:4; stroke-opacity:1; fill:none\" points=\"\n",
       "  180.66,410.864 213.242,410.864 \n",
       "  \"/>\n",
       "<polyline clip-path=\"url(#clip7800)\" style=\"stroke:#000000; stroke-width:4; stroke-opacity:1; fill:none\" points=\"\n",
       "  180.66,64.722 213.242,64.722 \n",
       "  \"/>\n",
       "<g clip-path=\"url(#clip7800)\">\n",
       "<text style=\"fill:#000000; fill-opacity:1; font-family:Arial,Helvetica Neue,Helvetica,sans-serif; font-size:48px; text-anchor:middle;\" transform=\"rotate(0, 469.818, 1541.47)\" x=\"469.818\" y=\"1541.47\">2</text>\n",
       "</g>\n",
       "<g clip-path=\"url(#clip7800)\">\n",
       "<text style=\"fill:#000000; fill-opacity:1; font-family:Arial,Helvetica Neue,Helvetica,sans-serif; font-size:48px; text-anchor:middle;\" transform=\"rotate(0, 925.184, 1541.47)\" x=\"925.184\" y=\"1541.47\">4</text>\n",
       "</g>\n",
       "<g clip-path=\"url(#clip7800)\">\n",
       "<text style=\"fill:#000000; fill-opacity:1; font-family:Arial,Helvetica Neue,Helvetica,sans-serif; font-size:48px; text-anchor:middle;\" transform=\"rotate(0, 1380.55, 1541.47)\" x=\"1380.55\" y=\"1541.47\">6</text>\n",
       "</g>\n",
       "<g clip-path=\"url(#clip7800)\">\n",
       "<text style=\"fill:#000000; fill-opacity:1; font-family:Arial,Helvetica Neue,Helvetica,sans-serif; font-size:48px; text-anchor:middle;\" transform=\"rotate(0, 1835.92, 1541.47)\" x=\"1835.92\" y=\"1541.47\">8</text>\n",
       "</g>\n",
       "<g clip-path=\"url(#clip7800)\">\n",
       "<text style=\"fill:#000000; fill-opacity:1; font-family:Arial,Helvetica Neue,Helvetica,sans-serif; font-size:48px; text-anchor:middle;\" transform=\"rotate(0, 2291.28, 1541.47)\" x=\"2291.28\" y=\"1541.47\">10</text>\n",
       "</g>\n",
       "<g clip-path=\"url(#clip7800)\">\n",
       "<text style=\"fill:#000000; fill-opacity:1; font-family:Arial,Helvetica Neue,Helvetica,sans-serif; font-size:48px; text-anchor:end;\" transform=\"rotate(0, 156.66, 1466.79)\" x=\"156.66\" y=\"1466.79\">0.00</text>\n",
       "</g>\n",
       "<g clip-path=\"url(#clip7800)\">\n",
       "<text style=\"fill:#000000; fill-opacity:1; font-family:Arial,Helvetica Neue,Helvetica,sans-serif; font-size:48px; text-anchor:end;\" transform=\"rotate(0, 156.66, 1120.65)\" x=\"156.66\" y=\"1120.65\">0.25</text>\n",
       "</g>\n",
       "<g clip-path=\"url(#clip7800)\">\n",
       "<text style=\"fill:#000000; fill-opacity:1; font-family:Arial,Helvetica Neue,Helvetica,sans-serif; font-size:48px; text-anchor:end;\" transform=\"rotate(0, 156.66, 774.505)\" x=\"156.66\" y=\"774.505\">0.50</text>\n",
       "</g>\n",
       "<g clip-path=\"url(#clip7800)\">\n",
       "<text style=\"fill:#000000; fill-opacity:1; font-family:Arial,Helvetica Neue,Helvetica,sans-serif; font-size:48px; text-anchor:end;\" transform=\"rotate(0, 156.66, 428.364)\" x=\"156.66\" y=\"428.364\">0.75</text>\n",
       "</g>\n",
       "<g clip-path=\"url(#clip7800)\">\n",
       "<text style=\"fill:#000000; fill-opacity:1; font-family:Arial,Helvetica Neue,Helvetica,sans-serif; font-size:48px; text-anchor:end;\" transform=\"rotate(0, 156.66, 82.222)\" x=\"156.66\" y=\"82.222\">1.00</text>\n",
       "</g>\n",
       "<polyline clip-path=\"url(#clip7802)\" style=\"stroke:#009af9; stroke-width:4; stroke-opacity:1; fill:none\" points=\"\n",
       "  242.135,743.46 469.818,838.572 697.501,1396.51 925.184,1014.15 1152.87,302.291 1380.55,885.05 1608.23,994.828 1835.92,1309.67 2063.6,298.903 2291.28,714.287 \n",
       "  \n",
       "  \"/>\n",
       "<polyline clip-path=\"url(#clip7802)\" style=\"stroke:#e26f46; stroke-width:4; stroke-opacity:1; fill:none\" points=\"\n",
       "  242.135,1265.91 469.818,479.564 697.501,213.117 925.184,458.645 1152.87,883.146 1380.55,198.314 1608.23,619.367 1835.92,393.597 2063.6,193.291 2291.28,1324.66 \n",
       "  \n",
       "  \"/>\n",
       "<polyline clip-path=\"url(#clip7802)\" style=\"stroke:#3da44d; stroke-width:4; stroke-opacity:1; fill:none\" points=\"\n",
       "  242.135,1076.02 469.818,503.932 697.501,918.762 925.184,454.229 1152.87,409.094 1380.55,894.459 1608.23,1407.26 1835.92,1393.54 2063.6,320.859 2291.28,168.979 \n",
       "  \n",
       "  \"/>\n",
       "<polyline clip-path=\"url(#clip7802)\" style=\"stroke:#c271d2; stroke-width:4; stroke-opacity:1; fill:none\" points=\"\n",
       "  242.135,1238.5 469.818,1241.57 697.501,832.935 925.184,932.777 1152.87,1443.75 1380.55,613.766 1608.23,755.625 1835.92,822.315 2063.6,1429.01 2291.28,303.54 \n",
       "  \n",
       "  \"/>\n",
       "<polyline clip-path=\"url(#clip7802)\" style=\"stroke:#ac8d18; stroke-width:4; stroke-opacity:1; fill:none\" points=\"\n",
       "  242.135,1060.6 469.818,524.645 697.501,657.19 925.184,1413.72 1152.87,328.626 1380.55,1322.21 1608.23,1338.28 1835.92,685.191 2063.6,315.865 2291.28,263.855 \n",
       "  \n",
       "  \"/>\n",
       "<polyline clip-path=\"url(#clip7802)\" style=\"stroke:#00a9ad; stroke-width:4; stroke-opacity:1; fill:none\" points=\"\n",
       "  242.135,964.529 469.818,500.788 697.501,1048.73 925.184,492.655 1152.87,88.0053 1380.55,790.659 1608.23,406.975 1835.92,1166.78 2063.6,1426.23 2291.28,141.712 \n",
       "  \n",
       "  \"/>\n",
       "<polyline clip-path=\"url(#clip7802)\" style=\"stroke:#ed5d92; stroke-width:4; stroke-opacity:1; fill:none\" points=\"\n",
       "  242.135,635.48 469.818,522.796 697.501,905.374 925.184,1373.66 1152.87,288.565 1380.55,1446.71 1608.23,839.074 1835.92,294.828 2063.6,751.479 2291.28,1125.42 \n",
       "  \n",
       "  \"/>\n",
       "<polyline clip-path=\"url(#clip7802)\" style=\"stroke:#c68125; stroke-width:4; stroke-opacity:1; fill:none\" points=\"\n",
       "  242.135,686.332 469.818,816.541 697.501,1373.44 925.184,663.401 1152.87,1383.62 1380.55,1339.33 1608.23,1082.59 1835.92,166.464 2063.6,1376.12 2291.28,1351.49 \n",
       "  \n",
       "  \"/>\n",
       "<polyline clip-path=\"url(#clip7802)\" style=\"stroke:#00a98d; stroke-width:4; stroke-opacity:1; fill:none\" points=\"\n",
       "  242.135,1204.82 469.818,592.331 697.501,1293.52 925.184,886.57 1152.87,656.384 1380.55,925.039 1608.23,1445.59 1835.92,1359.45 2063.6,140.837 2291.28,762.787 \n",
       "  \n",
       "  \"/>\n",
       "<polyline clip-path=\"url(#clip7802)\" style=\"stroke:#8e971d; stroke-width:4; stroke-opacity:1; fill:none\" points=\"\n",
       "  242.135,1114.96 469.818,1434.7 697.501,1308.74 925.184,1067.22 1152.87,415.418 1380.55,1390.02 1608.23,719.537 1835.92,911.12 2063.6,749.826 2291.28,1276.57 \n",
       "  \n",
       "  \"/>\n",
       "<polygon clip-path=\"url(#clip7800)\" points=\"\n",
       "1963.16,796.044 2280.76,796.044 2280.76,130.764 1963.16,130.764 \n",
       "  \" fill=\"#ffffff\" fill-rule=\"evenodd\" fill-opacity=\"1\"/>\n",
       "<polyline clip-path=\"url(#clip7800)\" style=\"stroke:#000000; stroke-width:4; stroke-opacity:1; fill:none\" points=\"\n",
       "  1963.16,796.044 2280.76,796.044 2280.76,130.764 1963.16,130.764 1963.16,796.044 \n",
       "  \"/>\n",
       "<polyline clip-path=\"url(#clip7800)\" style=\"stroke:#009af9; stroke-width:4; stroke-opacity:1; fill:none\" points=\"\n",
       "  1987.16,191.244 2131.16,191.244 \n",
       "  \"/>\n",
       "<g clip-path=\"url(#clip7800)\">\n",
       "<text style=\"fill:#000000; fill-opacity:1; font-family:Arial,Helvetica Neue,Helvetica,sans-serif; font-size:48px; text-anchor:start;\" transform=\"rotate(0, 2155.16, 208.744)\" x=\"2155.16\" y=\"208.744\">y1</text>\n",
       "</g>\n",
       "<polyline clip-path=\"url(#clip7800)\" style=\"stroke:#e26f46; stroke-width:4; stroke-opacity:1; fill:none\" points=\"\n",
       "  1987.16,251.724 2131.16,251.724 \n",
       "  \"/>\n",
       "<g clip-path=\"url(#clip7800)\">\n",
       "<text style=\"fill:#000000; fill-opacity:1; font-family:Arial,Helvetica Neue,Helvetica,sans-serif; font-size:48px; text-anchor:start;\" transform=\"rotate(0, 2155.16, 269.224)\" x=\"2155.16\" y=\"269.224\">y2</text>\n",
       "</g>\n",
       "<polyline clip-path=\"url(#clip7800)\" style=\"stroke:#3da44d; stroke-width:4; stroke-opacity:1; fill:none\" points=\"\n",
       "  1987.16,312.204 2131.16,312.204 \n",
       "  \"/>\n",
       "<g clip-path=\"url(#clip7800)\">\n",
       "<text style=\"fill:#000000; fill-opacity:1; font-family:Arial,Helvetica Neue,Helvetica,sans-serif; font-size:48px; text-anchor:start;\" transform=\"rotate(0, 2155.16, 329.704)\" x=\"2155.16\" y=\"329.704\">y3</text>\n",
       "</g>\n",
       "<polyline clip-path=\"url(#clip7800)\" style=\"stroke:#c271d2; stroke-width:4; stroke-opacity:1; fill:none\" points=\"\n",
       "  1987.16,372.684 2131.16,372.684 \n",
       "  \"/>\n",
       "<g clip-path=\"url(#clip7800)\">\n",
       "<text style=\"fill:#000000; fill-opacity:1; font-family:Arial,Helvetica Neue,Helvetica,sans-serif; font-size:48px; text-anchor:start;\" transform=\"rotate(0, 2155.16, 390.184)\" x=\"2155.16\" y=\"390.184\">y4</text>\n",
       "</g>\n",
       "<polyline clip-path=\"url(#clip7800)\" style=\"stroke:#ac8d18; stroke-width:4; stroke-opacity:1; fill:none\" points=\"\n",
       "  1987.16,433.164 2131.16,433.164 \n",
       "  \"/>\n",
       "<g clip-path=\"url(#clip7800)\">\n",
       "<text style=\"fill:#000000; fill-opacity:1; font-family:Arial,Helvetica Neue,Helvetica,sans-serif; font-size:48px; text-anchor:start;\" transform=\"rotate(0, 2155.16, 450.664)\" x=\"2155.16\" y=\"450.664\">y5</text>\n",
       "</g>\n",
       "<polyline clip-path=\"url(#clip7800)\" style=\"stroke:#00a9ad; stroke-width:4; stroke-opacity:1; fill:none\" points=\"\n",
       "  1987.16,493.644 2131.16,493.644 \n",
       "  \"/>\n",
       "<g clip-path=\"url(#clip7800)\">\n",
       "<text style=\"fill:#000000; fill-opacity:1; font-family:Arial,Helvetica Neue,Helvetica,sans-serif; font-size:48px; text-anchor:start;\" transform=\"rotate(0, 2155.16, 511.144)\" x=\"2155.16\" y=\"511.144\">y6</text>\n",
       "</g>\n",
       "<polyline clip-path=\"url(#clip7800)\" style=\"stroke:#ed5d92; stroke-width:4; stroke-opacity:1; fill:none\" points=\"\n",
       "  1987.16,554.124 2131.16,554.124 \n",
       "  \"/>\n",
       "<g clip-path=\"url(#clip7800)\">\n",
       "<text style=\"fill:#000000; fill-opacity:1; font-family:Arial,Helvetica Neue,Helvetica,sans-serif; font-size:48px; text-anchor:start;\" transform=\"rotate(0, 2155.16, 571.624)\" x=\"2155.16\" y=\"571.624\">y7</text>\n",
       "</g>\n",
       "<polyline clip-path=\"url(#clip7800)\" style=\"stroke:#c68125; stroke-width:4; stroke-opacity:1; fill:none\" points=\"\n",
       "  1987.16,614.604 2131.16,614.604 \n",
       "  \"/>\n",
       "<g clip-path=\"url(#clip7800)\">\n",
       "<text style=\"fill:#000000; fill-opacity:1; font-family:Arial,Helvetica Neue,Helvetica,sans-serif; font-size:48px; text-anchor:start;\" transform=\"rotate(0, 2155.16, 632.104)\" x=\"2155.16\" y=\"632.104\">y8</text>\n",
       "</g>\n",
       "<polyline clip-path=\"url(#clip7800)\" style=\"stroke:#00a98d; stroke-width:4; stroke-opacity:1; fill:none\" points=\"\n",
       "  1987.16,675.084 2131.16,675.084 \n",
       "  \"/>\n",
       "<g clip-path=\"url(#clip7800)\">\n",
       "<text style=\"fill:#000000; fill-opacity:1; font-family:Arial,Helvetica Neue,Helvetica,sans-serif; font-size:48px; text-anchor:start;\" transform=\"rotate(0, 2155.16, 692.584)\" x=\"2155.16\" y=\"692.584\">y9</text>\n",
       "</g>\n",
       "<polyline clip-path=\"url(#clip7800)\" style=\"stroke:#8e971d; stroke-width:4; stroke-opacity:1; fill:none\" points=\"\n",
       "  1987.16,735.564 2131.16,735.564 \n",
       "  \"/>\n",
       "<g clip-path=\"url(#clip7800)\">\n",
       "<text style=\"fill:#000000; fill-opacity:1; font-family:Arial,Helvetica Neue,Helvetica,sans-serif; font-size:48px; text-anchor:start;\" transform=\"rotate(0, 2155.16, 753.064)\" x=\"2155.16\" y=\"753.064\">y10</text>\n",
       "</g>\n",
       "</svg>\n"
      ]
     },
     "execution_count": 8,
     "metadata": {},
     "output_type": "execute_result"
    }
   ],
   "source": [
    "plot(rand(10,10))"
   ]
  },
  {
   "cell_type": "markdown",
   "metadata": {
    "slideshow": {
     "slide_type": "slide"
    }
   },
   "source": [
    "## Let's add workers for parallel processing"
   ]
  },
  {
   "cell_type": "code",
   "execution_count": 9,
   "metadata": {
    "slideshow": {
     "slide_type": "subslide"
    }
   },
   "outputs": [
    {
     "data": {
      "text/plain": [
       "8"
      ]
     },
     "execution_count": 9,
     "metadata": {},
     "output_type": "execute_result"
    }
   ],
   "source": [
    "using Distributed\n",
    "nprocs()==1 && addprocs()\n",
    "nworkers()"
   ]
  },
  {
   "cell_type": "markdown",
   "metadata": {
    "slideshow": {
     "slide_type": "slide"
    }
   },
   "source": [
    "## Load TSML Modules and other Dependencies"
   ]
  },
  {
   "cell_type": "code",
   "execution_count": 10,
   "metadata": {
    "slideshow": {
     "slide_type": "subslide"
    }
   },
   "outputs": [],
   "source": [
    "@everywhere using TSML, TSMLextra, Plots\n",
    "@everywhere using TSML.TSMLTypes\n",
    "@everywhere using TSML: TSClassifier\n",
    "@everywhere using TSML.TSClassifiers.FileStats\n",
    "@everywhere using TSML.EnsembleMethods\n",
    "@everywhere using TSML.DecisionTreeLearners\n",
    "@everywhere using TSML.Utils\n",
    "@everywhere using TSMLextra.CaretLearners\n",
    "@everywhere using TSMLextra.SKLearners\n",
    "@everywhere using TSML.MLBaseWrapper\n",
    "\n",
    "@everywhere using DataFrames\n",
    "@everywhere using Random\n",
    "@everywhere using Statistics\n",
    "@everywhere using StatsBase: iqr\n",
    "@everywhere using RDatasets\n",
    "ENV[\"COLUMNS\"]=1000; # for dataframe column size"
   ]
  },
  {
   "cell_type": "markdown",
   "metadata": {
    "slideshow": {
     "slide_type": "slide"
    }
   },
   "source": [
    "## Initialize ML models from Julia, Caret, and Scikitlearn"
   ]
  },
  {
   "cell_type": "code",
   "execution_count": 14,
   "metadata": {
    "scrolled": false,
    "slideshow": {
     "slide_type": "subslide"
    }
   },
   "outputs": [],
   "source": [
    "# Caret ML\n",
    "@everywhere caret_svmlinear = CaretLearner(Dict(:learner=>\"svmLinear\"))\n",
    "@everywhere caret_treebag = CaretLearner(Dict(:learner=>\"treebag\"))\n",
    "@everywhere caret_rpart = CaretLearner(Dict(:learner=>\"rpart\"))\n",
    "@everywhere caret_rf = CaretLearner(Dict(:learner=>\"rf\"))\n",
    "\n",
    "# ScikitLearn ML\n",
    "@everywhere sk_ridge = SKLearner(Dict(:learner=>\"RidgeClassifier\"))\n",
    "@everywhere sk_sgd = SKLearner(Dict(:learner=>\"SGDClassifier\"))\n",
    "@everywhere sk_knn = SKLearner(Dict(:learner=>\"KNeighborsClassifier\"))\n",
    "@everywhere sk_gb = SKLearner(Dict(:learner=>\"GradientBoostingClassifier\",:impl_args=>Dict(:n_estimators=>10)))\n",
    "@everywhere sk_extratree = SKLearner(Dict(:learner=>\"ExtraTreesClassifier\",:impl_args=>Dict(:n_estimators=>10)))\n",
    "@everywhere sk_rf = SKLearner(Dict(:learner=>\"RandomForestClassifier\",:impl_args=>Dict(:n_estimators=>10)))\n",
    "\n",
    "# Julia ML\n",
    "@everywhere jrf = RandomForest(Dict(:impl_args=>Dict(:num_trees=>300)))\n",
    "@everywhere jpt = PrunedTree()\n",
    "@everywhere jada = Adaboost()\n",
    "\n",
    "# Julia Ensembles\n",
    "@everywhere jvote_ens=VoteEnsemble(Dict(:learners=>[jrf,jpt,sk_gb,sk_extratree,sk_rf]))\n",
    "@everywhere jstack_ens=StackEnsemble(Dict(:learners=>[jrf,jpt,sk_gb,sk_extratree,sk_rf]))\n",
    "@everywhere jbest_ens=BestLearner(Dict(:learners=>[jrf,sk_gb,sk_rf]))\n",
    "@everywhere jsuper_ens=VoteEnsemble(Dict(:learners=>[jvote_ens,jstack_ens,jbest_ens,sk_rf,sk_gb]))"
   ]
  },
  {
   "cell_type": "markdown",
   "metadata": {
    "slideshow": {
     "slide_type": "slide"
    }
   },
   "source": [
    "## Functions for feature extraction and prediction"
   ]
  },
  {
   "cell_type": "code",
   "execution_count": 12,
   "metadata": {
    "slideshow": {
     "slide_type": "subslide"
    }
   },
   "outputs": [],
   "source": [
    "@everywhere function predict(learner,data,train_ind,test_ind)\n",
    "    features = convert(Matrix,data[:, 1:(end-1)])\n",
    "    labels = convert(Array,data[:, end])\n",
    "    # Create pipeline\n",
    "     pipeline = Pipeline(\n",
    "       Dict(\n",
    "         :transformers => [\n",
    "           OneHotEncoder(), # Encodes nominal features into numeric\n",
    "           Imputer(), # Imputes NA values\n",
    "           StandardScaler(),\n",
    "           learner # Predicts labels on instances\n",
    "         ]\n",
    "       )\n",
    "     )\n",
    "     # Train\n",
    "     fit!(pipeline, features[train_ind, :], labels[train_ind]);\n",
    "     # Predict\n",
    "     predictions = transform!(pipeline, features[test_ind, :]);\n",
    "     # Assess predictions\n",
    "     result = score(:accuracy, labels[test_ind], predictions)\n",
    "     return result\n",
    "end"
   ]
  },
  {
   "cell_type": "markdown",
   "metadata": {
    "slideshow": {
     "slide_type": "slide"
    }
   },
   "source": [
    "## Data processing and feature extraction"
   ]
  },
  {
   "cell_type": "code",
   "execution_count": null,
   "metadata": {
    "slideshow": {
     "slide_type": "subslide"
    }
   },
   "outputs": [],
   "source": [
    "@everywhere function extract_features_from_timeseries(datadir)\n",
    "  println(\"*** Extracting features ***\")\n",
    "  mdata = getstats(datadir)\n",
    "  mdata[!,:dtype] = mdata[!,:dtype] |> Array{String}\n",
    "  return mdata[!,3:(end-1)]\n",
    "end\n",
    "\n",
    "datadir = joinpath(\"data/\")\n",
    "tsdata = extract_features_from_timeseries(datadir)\n",
    "first(tsdata,5)"
   ]
  },
  {
   "cell_type": "markdown",
   "metadata": {
    "slideshow": {
     "slide_type": "slide"
    }
   },
   "source": [
    "## Run in parallel all models in different trials"
   ]
  },
  {
   "cell_type": "code",
   "execution_count": 28,
   "metadata": {
    "slideshow": {
     "slide_type": "subslide"
    }
   },
   "outputs": [
    {
     "data": {
      "text/plain": [
       "parallelmodel (generic function with 1 method)"
      ]
     },
     "execution_count": 28,
     "metadata": {},
     "output_type": "execute_result"
    }
   ],
   "source": [
    "function parallelmodel(learners::Dict,data::DataFrame;trials=5)\n",
    "    models=collect(keys(learners))\n",
    "    ctable=@distributed (vcat) for i=1:trials\n",
    "        # Split into training and test sets\n",
    "        Random.seed!(3i)\n",
    "        (train_ind, test_ind) = holdout(size(data, 1), 0.20)\n",
    "        acc=@distributed (vcat) for model in models\n",
    "            res=predict(learners[model],data,train_ind,test_ind)\n",
    "            println(\"trial \",i,\", \",model,\" => \",round(res))\n",
    "            [model res i]\n",
    "        end\n",
    "        acc\n",
    "    end\n",
    "    df = ctable |> DataFrame\n",
    "    rename!(df,:x1=>:model,:x2=>:acc,:x3=>:trial)\n",
    "    gp=by(df,:model) do x\n",
    "       DataFrame(mean=mean(x.acc),std=std(x.acc),n=length(x.acc)) \n",
    "    end\n",
    "    sort!(gp,:mean,rev=true)\n",
    "    return gp\n",
    "end"
   ]
  },
  {
   "cell_type": "code",
   "execution_count": 29,
   "metadata": {
    "slideshow": {
     "slide_type": "subslide"
    }
   },
   "outputs": [
    {
     "name": "stdout",
     "output_type": "stream",
     "text": [
      "      From worker 3:\ttrial 1, skl_extratree => 100.0\n",
      "      From worker 2:\ttrial 3, skl_extratree => 100.0\n",
      "      From worker 5:\ttrial 3, skl_gb => 50.0\n",
      "      From worker 5:\ttrial 3, jada => 50.0\n",
      "      From worker 5:\ttrial 2, skl_gb => 75.0\n",
      "      From worker 5:\ttrial 2, jada => 50.0\n",
      "      From worker 5:\ttrial 1, skl_gb => 75.0\n",
      "      From worker 5:\ttrial 1, jada => 25.0\n",
      "      From worker 9:\ttrial 3, skl_knn => 50.0\n",
      "      From worker 9:\ttrial 2, skl_knn => 75.0\n",
      "      From worker 9:\ttrial 1, skl_knn => 75.0\n",
      "      From worker 8:\ttrial 3, sk_rf => 50.0\n",
      "      From worker 8:\ttrial 2, sk_rf => 75.0\n",
      "      From worker 8:\ttrial 1, sk_rf => 75.0\n",
      "      From worker 4:\ttrial 3, jrf => 25.0\n",
      "      From worker 2:\ttrial 3, crt_treebag => 50.0\n",
      "      From worker 2:\ttrial 2, skl_extratree => 100.0\n",
      "      From worker 3:\ttrial 1, crt_treebag => 100.0\n",
      "      From worker 3:\ttrial 2, jrf => 100.0\n",
      "      From worker 6:\ttrial 3, crt_svmlinear => 75.0\n",
      "      From worker 6:\ttrial 2, crt_svmlinear => 75.0\n",
      "      From worker 6:\ttrial 1, crt_svmlinear => 100.0\n",
      "      From worker 2:\ttrial 2, crt_treebag => 100.0\n",
      "      From worker 2:\ttrial 1, jrf => 75.0\n",
      "      From worker 3:\ttrial 3, jstack_ens => 0.0\n",
      "      From worker 4:\ttrial 2, jstack_ens => 50.0\n",
      "      From worker 4:\ttrial 1, jstack_ens => 0.0\n",
      "      From worker 3:\ttrial 3, jvote_ens => 75.0\n",
      "      From worker 4:\ttrial 2, jvote_ens => 100.0\n",
      "      From worker 4:\ttrial 1, jvote_ens => 75.0\n",
      "      From worker 2:\ttrial 1, jbest_ens => 100.0\n",
      "      From worker 3:\ttrial 2, jbest_ens => 100.0\n",
      "      From worker 4:\ttrial 3, jbest_ens => 25.0\n",
      "      From worker 7:\ttrial 2, jsuper_ens => 100.0\n",
      "      From worker 7:\ttrial 3, jsuper_ens => 25.0\n",
      "      From worker 7:\ttrial 1, jsuper_ens => 100.0\n"
     ]
    },
    {
     "data": {
      "text/html": [
       "<table class=\"data-frame\"><thead><tr><th></th><th>model</th><th>mean</th><th>std</th><th>n</th></tr><tr><th></th><th>Any</th><th>Float64</th><th>Float64</th><th>Int64</th></tr></thead><tbody><p>12 rows × 4 columns</p><tr><th>1</th><td>skl_extratree</td><td>100.0</td><td>0.0</td><td>3</td></tr><tr><th>2</th><td>crt_treebag</td><td>83.3333</td><td>28.8675</td><td>3</td></tr><tr><th>3</th><td>jvote_ens</td><td>83.3333</td><td>14.4338</td><td>3</td></tr><tr><th>4</th><td>crt_svmlinear</td><td>83.3333</td><td>14.4338</td><td>3</td></tr><tr><th>5</th><td>jbest_ens</td><td>75.0</td><td>43.3013</td><td>3</td></tr><tr><th>6</th><td>jsuper_ens</td><td>75.0</td><td>43.3013</td><td>3</td></tr><tr><th>7</th><td>jrf</td><td>66.6667</td><td>38.1881</td><td>3</td></tr><tr><th>8</th><td>skl_gb</td><td>66.6667</td><td>14.4338</td><td>3</td></tr><tr><th>9</th><td>sk_rf</td><td>66.6667</td><td>14.4338</td><td>3</td></tr><tr><th>10</th><td>skl_knn</td><td>66.6667</td><td>14.4338</td><td>3</td></tr><tr><th>11</th><td>jada</td><td>41.6667</td><td>14.4338</td><td>3</td></tr><tr><th>12</th><td>jstack_ens</td><td>16.6667</td><td>28.8675</td><td>3</td></tr></tbody></table>"
      ],
      "text/latex": [
       "\\begin{tabular}{r|cccc}\n",
       "\t& model & mean & std & n\\\\\n",
       "\t\\hline\n",
       "\t& Any & Float64 & Float64 & Int64\\\\\n",
       "\t\\hline\n",
       "\t1 & skl\\_extratree & 100.0 & 0.0 & 3 \\\\\n",
       "\t2 & crt\\_treebag & 83.3333 & 28.8675 & 3 \\\\\n",
       "\t3 & jvote\\_ens & 83.3333 & 14.4338 & 3 \\\\\n",
       "\t4 & crt\\_svmlinear & 83.3333 & 14.4338 & 3 \\\\\n",
       "\t5 & jbest\\_ens & 75.0 & 43.3013 & 3 \\\\\n",
       "\t6 & jsuper\\_ens & 75.0 & 43.3013 & 3 \\\\\n",
       "\t7 & jrf & 66.6667 & 38.1881 & 3 \\\\\n",
       "\t8 & skl\\_gb & 66.6667 & 14.4338 & 3 \\\\\n",
       "\t9 & sk\\_rf & 66.6667 & 14.4338 & 3 \\\\\n",
       "\t10 & skl\\_knn & 66.6667 & 14.4338 & 3 \\\\\n",
       "\t11 & jada & 41.6667 & 14.4338 & 3 \\\\\n",
       "\t12 & jstack\\_ens & 16.6667 & 28.8675 & 3 \\\\\n",
       "\\end{tabular}\n"
      ],
      "text/plain": [
       "12×4 DataFrame\n",
       "│ Row │ model         │ mean    │ std     │ n     │\n",
       "│     │ \u001b[90mAny\u001b[39m           │ \u001b[90mFloat64\u001b[39m │ \u001b[90mFloat64\u001b[39m │ \u001b[90mInt64\u001b[39m │\n",
       "├─────┼───────────────┼─────────┼─────────┼───────┤\n",
       "│ 1   │ skl_extratree │ 100.0   │ 0.0     │ 3     │\n",
       "│ 2   │ crt_treebag   │ 83.3333 │ 28.8675 │ 3     │\n",
       "│ 3   │ jvote_ens     │ 83.3333 │ 14.4338 │ 3     │\n",
       "│ 4   │ crt_svmlinear │ 83.3333 │ 14.4338 │ 3     │\n",
       "│ 5   │ jbest_ens     │ 75.0    │ 43.3013 │ 3     │\n",
       "│ 6   │ jsuper_ens    │ 75.0    │ 43.3013 │ 3     │\n",
       "│ 7   │ jrf           │ 66.6667 │ 38.1881 │ 3     │\n",
       "│ 8   │ skl_gb        │ 66.6667 │ 14.4338 │ 3     │\n",
       "│ 9   │ sk_rf         │ 66.6667 │ 14.4338 │ 3     │\n",
       "│ 10  │ skl_knn       │ 66.6667 │ 14.4338 │ 3     │\n",
       "│ 11  │ jada          │ 41.6667 │ 14.4338 │ 3     │\n",
       "│ 12  │ jstack_ens    │ 16.6667 │ 28.8675 │ 3     │"
      ]
     },
     "execution_count": 29,
     "metadata": {},
     "output_type": "execute_result"
    }
   ],
   "source": [
    "learners=Dict(\n",
    "      :jvote_ens=>jvote_ens,:jstack_ens=>jstack_ens,:jbest_ens=>jbest_ens,\n",
    "      :jrf => jrf,:jada=>jada,:jsuper_ens=>jsuper_ens,#:crt_rpart=>caret_rpart,\n",
    "      :crt_svmlinear=>caret_svmlinear,:crt_treebag=>caret_treebag,#:crt_rf=>caret_rf, \n",
    "      :skl_knn=>sk_knn,:skl_gb=>sk_gb,:skl_extratree=>sk_extratree,\n",
    "      :sk_rf => sk_rf\n",
    ");\n",
    "\n",
    "df = parallelmodel(learners,tsdata;trials=3)"
   ]
  },
  {
   "cell_type": "code",
   "execution_count": null,
   "metadata": {},
   "outputs": [],
   "source": []
  }
 ],
 "metadata": {
  "@webio": {
   "lastCommId": null,
   "lastKernelId": null
  },
  "celltoolbar": "Slideshow",
  "kernelspec": {
   "display_name": "Julia 1.2",
   "language": "julia",
   "name": "julia-1.2"
  },
  "language_info": {
   "file_extension": ".jl",
   "mimetype": "application/julia",
   "name": "julia",
   "version": "1.2.0"
  }
 },
 "nbformat": 4,
 "nbformat_minor": 2
}
