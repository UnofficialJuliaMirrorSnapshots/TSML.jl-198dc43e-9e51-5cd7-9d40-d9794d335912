{
 "cells": [
  {
   "cell_type": "markdown",
   "metadata": {
    "slideshow": {
     "slide_type": "slide"
    }
   },
   "source": [
    "# TSML Demo"
   ]
  },
  {
   "cell_type": "markdown",
   "metadata": {
    "slideshow": {
     "slide_type": "slide"
    }
   },
   "source": [
    "## Let's add workers for parallel processing"
   ]
  },
  {
   "cell_type": "code",
   "execution_count": 56,
   "metadata": {
    "slideshow": {
     "slide_type": "subslide"
    }
   },
   "outputs": [
    {
     "data": {
      "text/plain": [
       "7"
      ]
     },
     "execution_count": 56,
     "metadata": {},
     "output_type": "execute_result"
    }
   ],
   "source": [
    "using Distributed\n",
    "nprocs()==1 && addprocs()\n",
    "nworkers()"
   ]
  },
  {
   "cell_type": "markdown",
   "metadata": {
    "slideshow": {
     "slide_type": "slide"
    }
   },
   "source": [
    "## Load TSML Modules and other Dependencies"
   ]
  },
  {
   "cell_type": "code",
   "execution_count": 99,
   "metadata": {
    "slideshow": {
     "slide_type": "subslide"
    }
   },
   "outputs": [],
   "source": [
    "using TSML, TSMLextra\n",
    "@everywhere using Random\n",
    "@everywhere using TSML, TSMLextra, Plots\n",
    "@everywhere using TSML.TSMLTypes\n",
    "@everywhere using TSML: TSClassifier\n",
    "@everywhere using TSML.TSClassifiers.FileStats\n",
    "@everywhere using TSML.TSMLTransformers\n",
    "@everywhere using TSML.EnsembleMethods\n",
    "@everywhere using TSML.DecisionTreeLearners\n",
    "@everywhere using TSML.Utils\n",
    "@everywhere using TSMLextra.CaretLearners\n",
    "@everywhere using TSMLextra.SKLearners\n",
    "@everywhere using DataFrames\n",
    "@everywhere using Statistics\n",
    "@everywhere using StatsBase: iqr"
   ]
  },
  {
   "cell_type": "markdown",
   "metadata": {
    "slideshow": {
     "slide_type": "slide"
    }
   },
   "source": [
    "## Functions for feature extraction and prediction"
   ]
  },
  {
   "cell_type": "code",
   "execution_count": 58,
   "metadata": {
    "slideshow": {
     "slide_type": "subslide"
    }
   },
   "outputs": [],
   "source": [
    "@everywhere function getprediction(model::TSLearner,data::Dict)\n",
    "  Random.seed!(126)\n",
    "  trfeatures = data[:trfeatures]\n",
    "  tstfeatures = data[:tstfeatures]\n",
    "  troutput = data[:troutput]\n",
    "  tstoutput = data[:tstoutput]\n",
    "  fit!(model,trfeatures,troutput)\n",
    "  trresults = transform!(model,tstfeatures)\n",
    "  sum(trresults .== tstoutput)/length(tstoutput)\n",
    "end\n",
    "\n",
    "\n",
    "@everywhere function extract_features_from_timeseries(modeldirname,trdirname,tstdirname)\n",
    "  frange = 5:20\n",
    "  println(\"*** Extracting training features ***\")\n",
    "  trdata = getstats(trdirname)\n",
    "  trfeatures = trdata[:,frange] |> Matrix\n",
    "  troutput = trdata[:,:dtype] \n",
    "  println()\n",
    "  println(\"*** Extracting testing features ***\")\n",
    "  tstdata = getstats(tstdirname)\n",
    "  tstfeatures = tstdata[:,frange] |> Matrix\n",
    "  tstoutput = tstdata[:,:dtype]\n",
    "\n",
    "  data = Dict(:trfeatures => trfeatures,\n",
    "              :tstfeatures => tstfeatures,\n",
    "              :troutput => troutput,\n",
    "              :tstoutput => tstoutput\n",
    "             )\n",
    "  return data\n",
    "end"
   ]
  },
  {
   "cell_type": "markdown",
   "metadata": {
    "slideshow": {
     "slide_type": "slide"
    }
   },
   "source": [
    "## Data processing and feature extraction"
   ]
  },
  {
   "cell_type": "code",
   "execution_count": 59,
   "metadata": {
    "slideshow": {
     "slide_type": "subslide"
    }
   },
   "outputs": [
    {
     "name": "stdout",
     "output_type": "stream",
     "text": [
      "*** Extracting training features ***\n",
      "getting stats of AirOffTemp1.csv\n",
      "getting stats of AirOffTemp2.csv\n",
      "getting stats of AirOffTemp3.csv\n",
      "getting stats of Energy1.csv\n",
      "getting stats of Energy2.csv\n",
      "getting stats of Energy3.csv\n",
      "getting stats of Energy4.csv\n",
      "getting stats of Energy6.csv\n",
      "getting stats of Energy7.csv\n",
      "getting stats of Energy8.csv\n",
      "getting stats of Energy9.csv\n",
      "getting stats of Pressure1.csv\n",
      "getting stats of Pressure3.csv\n",
      "getting stats of Pressure4.csv\n",
      "getting stats of Pressure6.csv\n",
      "getting stats of RetTemp11.csv\n",
      "getting stats of RetTemp21.csv\n",
      "getting stats of RetTemp41.csv\n",
      "getting stats of RetTemp51.csv\n",
      "\n",
      "*** Extracting testing features ***\n",
      "getting stats of AirOffTemp4.csv\n",
      "getting stats of AirOffTemp5.csv\n",
      "getting stats of Energy10.csv\n",
      "getting stats of Energy5.csv\n",
      "getting stats of Pressure5.csv\n",
      "getting stats of RetTemp31.csv\n"
     ]
    },
    {
     "data": {
      "text/plain": [
       "Dict{Symbol,Array} with 4 entries:\n",
       "  :tstfeatures => [6.0 2.15 … 1.44612 0.679828; 9.0 3.7 … 2.47319 1.11812; … ; …\n",
       "  :tstoutput   => SubString{String}[\"AirOffTemp\", \"AirOffTemp\", \"Energy\", \"Ener…\n",
       "  :troutput    => SubString{String}[\"AirOffTemp\", \"AirOffTemp\", \"AirOffTemp\", \"…\n",
       "  :trfeatures  => [8.9 3.1 … 2.88221 1.18164; 5.2 2.0 … 1.80057 0.921901; … ; 1…"
      ]
     },
     "execution_count": 59,
     "metadata": {},
     "output_type": "execute_result"
    }
   ],
   "source": [
    "modeldir = joinpath(dirname(pathof(TSML)),\"../data/realdatatsclassification/model\")\n",
    "trainingdir = joinpath(dirname(pathof(TSML)),\"../data/realdatatsclassification/training\")\n",
    "testingdir = joinpath(dirname(pathof(TSML)),\"../data/realdatatsclassification/testing\")\n",
    "\n",
    "data = extract_features_from_timeseries(modeldir,trainingdir,testingdir)"
   ]
  },
  {
   "cell_type": "markdown",
   "metadata": {
    "slideshow": {
     "slide_type": "slide"
    }
   },
   "source": [
    "## Initialize ML models from Julia, Caret, and Scikitlearn"
   ]
  },
  {
   "cell_type": "code",
   "execution_count": 119,
   "metadata": {
    "slideshow": {
     "slide_type": "subslide"
    }
   },
   "outputs": [],
   "source": [
    "@everywhere caret_svmlinear = CaretLearner(Dict(:learner=>\"svmLinear\"))\n",
    "@everywhere caret_treebag = CaretLearner(Dict(:learner=>\"treebag\"))\n",
    "@everywhere caret_rpart = CaretLearner(Dict(:learner=>\"rpart\"))\n",
    "@everywhere caret_rf = CaretLearner(Dict(:learner=>\"rf\"))\n",
    "@everywhere sk_ridge = SKLearner(Dict(:learner=>\"RidgeClassifier\"))\n",
    "@everywhere sk_sgd = SKLearner(Dict(:learner=>\"SGDClassifier\"))\n",
    "@everywhere sk_knn = SKLearner(Dict(:learner=>\"KNeighborsClassifier\"))\n",
    "@everywhere sk_gb = SKLearner(Dict(:learner=>\"GradientBoostingClassifier\"))\n",
    "@everywhere sk_extratree = SKLearner(Dict(:learner=>\"ExtraTreesClassifier\"))\n",
    "@everywhere jrf = RandomForest(Dict(:impl_args=>Dict(:num_trees=>30)))\n",
    "@everywhere jpt = PrunedTree()\n",
    "@everywhere jada = Adaboost()\n",
    "@everywhere jvote_ens=VoteEnsemble(Dict(:learners=>[jrf,sk_gb]))\n",
    "@everywhere jstack_ens=StackEnsemble(Dict(:learners=>[jrf,sk_gb]))\n",
    "@everywhere jbest_ens=BestLearner(Dict(:learners=>[jrf,sk_gb]))\n",
    "@everywhere jsuper_ens=VoteEnsemble(Dict(:learners=>[jvote_ens,jstack_ens,jbest_ens]))"
   ]
  },
  {
   "cell_type": "markdown",
   "metadata": {
    "slideshow": {
     "slide_type": "slide"
    }
   },
   "source": [
    "## Run in parallel all models in different trials"
   ]
  },
  {
   "cell_type": "code",
   "execution_count": 120,
   "metadata": {
    "slideshow": {
     "slide_type": "subslide"
    }
   },
   "outputs": [
    {
     "name": "stdout",
     "output_type": "stream",
     "text": [
      "      From worker 8:\tjada => 0.33\n",
      "      From worker 9:\tjada => 0.33\n",
      "      From worker 9:\tjada => 0.33\n",
      "      From worker 7:\tjada => 0.33\n",
      "      From worker 8:\tjada => 0.33\n",
      "      From worker 7:\tjada => 0.33\n",
      "      From worker 2:\tjada => 0.33\n",
      "      From worker 2:\tjada => 0.33\n",
      "      From worker 4:\tcrt_rf => 0.83\n"
     ]
    },
    {
     "name": "stderr",
     "output_type": "stream",
     "text": [
      "┌ Warning: RCall.jl: Warning in nominalTrainWorkflow(x = x, y = y, wts = weights, info = trainInfo,  :\n",
      "│   There were missing values in resampled performance measures.\n",
      "└ @ RCall ~/.julia/packages/RCall/iojZI/src/io.jl:113\n"
     ]
    },
    {
     "name": "stdout",
     "output_type": "stream",
     "text": [
      "      From worker 4:\tcrt_rf => 0.67\n",
      "      From worker 4:\tjada => 0.33\n",
      "      From worker 4:\tjada => 0.33\n",
      "      From worker 2:\tcrt_rf => 0.83\n",
      "      From worker 8:\tcrt_rf => 0.83\n",
      "      From worker 9:\tcrt_rf => 0.83\n",
      "      From worker 7:\tcrt_rf => 0.83\n"
     ]
    },
    {
     "name": "stderr",
     "output_type": "stream",
     "text": [
      "┌ Warning: RCall.jl: Warning in nominalTrainWorkflow(x = x, y = y, wts = weights, info = trainInfo,  :\n",
      "│   There were missing values in resampled performance measures.\n",
      "└ @ RCall ~/.julia/packages/RCall/iojZI/src/io.jl:113\n"
     ]
    },
    {
     "name": "stdout",
     "output_type": "stream",
     "text": [
      "      From worker 9:\tcrt_rf => 0.83\n",
      "      From worker 9:\tjrf => 0.67\n",
      "      From worker 7:\tcrt_rf => 0.83\n",
      "      From worker 7:\tjrf => 0.67\n",
      "      From worker 2:\tjrf => 0.67\n",
      "      From worker 2:\tcrt_rf => 0.83\n",
      "      From worker 8:\tcrt_rf => 0.83\n",
      "      From worker 4:\tjrf => 0.67\n",
      "      From worker 8:\tjrf => 0.67\n",
      "      From worker 8:\tcrt_svmlinear => 0.83\n"
     ]
    },
    {
     "name": "stderr",
     "output_type": "stream",
     "text": [
      "┌ Warning: RCall.jl: Warning in nominalTrainWorkflow(x = x, y = y, wts = weights, info = trainInfo,  :\n",
      "│   There were missing values in resampled performance measures.\n",
      "└ @ RCall ~/.julia/packages/RCall/iojZI/src/io.jl:113\n"
     ]
    },
    {
     "name": "stdout",
     "output_type": "stream",
     "text": [
      "      From worker 2:\tcrt_svmlinear => 0.83\n",
      "      From worker 8:\tcrt_svmlinear => 0.83\n",
      "      From worker 8:\tjstack_ens => 0.33\n",
      "      From worker 7:\tcrt_svmlinear => 0.83\n",
      "      From worker 9:\tcrt_svmlinear => 0.83\n",
      "      From worker 4:\tcrt_svmlinear => 0.83\n",
      "      From worker 2:\tcrt_svmlinear => 0.83\n",
      "      From worker 2:\tjstack_ens => 0.33\n",
      "      From worker 2:\tjrf => 0.67\n",
      "      From worker 7:\tcrt_svmlinear => 0.83\n",
      "      From worker 7:\tjstack_ens => 0.33\n",
      "      From worker 7:\tjrf => 0.67\n",
      "      From worker 9:\tcrt_svmlinear => 0.83\n",
      "      From worker 9:\tjstack_ens => 0.33\n",
      "      From worker 9:\tjrf => 0.67\n",
      "      From worker 4:\tcrt_svmlinear => 0.83\n",
      "      From worker 4:\tjstack_ens => 0.33\n",
      "      From worker 4:\tjrf => 0.67\n",
      "      From worker 4:\tcrt_rpart => 0.33\n",
      "      From worker 4:\tcrt_rpart => 0.33\n",
      "      From worker 9:\tcrt_rpart => 0.33\n",
      "      From worker 7:\tcrt_rpart => 0.33\n",
      "      From worker 8:\tcrt_rpart => 0.33\n",
      "      From worker 2:\tcrt_rpart => 0.33\n",
      "      From worker 2:\tcrt_rpart => 0.33\n",
      "      From worker 9:\tcrt_rpart => 0.33\n",
      "      From worker 9:\tjstack_ens => 0.5\n",
      "      From worker 8:\tcrt_rpart => 0.33\n",
      "      From worker 8:\tjrf => 0.67\n",
      "      From worker 7:\tcrt_rpart => 0.33\n",
      "      From worker 8:\tjstack_ens => 0.33\n",
      "      From worker 7:\tjstack_ens => 0.33\n",
      "      From worker 2:\tjstack_ens => 0.33\n",
      "      From worker 4:\tcrt_treebag => 0.83\n",
      "      From worker 8:\tcrt_treebag => 0.83\n",
      "      From worker 2:\tcrt_treebag => 0.83\n",
      "      From worker 7:\tcrt_treebag => 0.67\n",
      "      From worker 9:\tcrt_treebag => 0.83\n",
      "      From worker 4:\tcrt_treebag => 0.83\n",
      "      From worker 8:\tcrt_treebag => 0.83\n",
      "      From worker 7:\tcrt_treebag => 0.83\n",
      "      From worker 2:\tcrt_treebag => 0.83\n",
      "      From worker 9:\tcrt_treebag => 0.5\n",
      "      From worker 9:\tjsuper_ens => 0.5\n",
      "      From worker 4:\tjstack_ens => 0.33\n",
      "      From worker 2:\tjsuper_ens => 0.83\n",
      "      From worker 8:\tjsuper_ens => 0.67\n",
      "      From worker 9:\tjvote_ens => 0.67\n",
      "      From worker 2:\tjvote_ens => 0.67\n",
      "      From worker 9:\tjbest_ens => 0.5\n",
      "      From worker 4:\tjsuper_ens => 0.67\n",
      "      From worker 2:\tjbest_ens => 0.5\n",
      "      From worker 4:\tjvote_ens => 0.67\n",
      "      From worker 4:\tjbest_ens => 0.5\n",
      "      From worker 7:\tjsuper_ens => 0.5\n",
      "      From worker 7:\tjvote_ens => 0.67\n",
      "      From worker 9:\tjvote_ens => 0.67\n",
      "      From worker 2:\tjvote_ens => 0.67\n",
      "      From worker 7:\tjbest_ens => 0.5\n",
      "      From worker 8:\tjvote_ens => 0.67\n",
      "      From worker 8:\tjbest_ens => 0.5\n",
      "      From worker 4:\tjvote_ens => 0.67\n",
      "      From worker 8:\tjvote_ens => 0.67\n",
      "      From worker 7:\tjvote_ens => 0.67\n",
      "      From worker 7:\tskl_gb => 0.83\n",
      "      From worker 8:\tskl_gb => 0.83\n",
      "      From worker 4:\tskl_gb => 0.83\n",
      "      From worker 9:\tskl_gb => 0.83\n",
      "      From worker 7:\tskl_gb => 0.83\n",
      "      From worker 8:\tskl_gb => 0.83\n",
      "      From worker 4:\tskl_gb => 0.83\n",
      "      From worker 9:\tskl_gb => 0.83\n",
      "      From worker 2:\tskl_gb => 0.83\n",
      "      From worker 9:\tjbest_ens => 0.83\n",
      "      From worker 2:\tskl_gb => 0.83\n",
      "      From worker 2:\tjbest_ens => 0.67\n",
      "      From worker 4:\tjbest_ens => 0.83\n",
      "      From worker 7:\tjbest_ens => 0.67\n",
      "      From worker 9:\tjsuper_ens => 0.83\n",
      "      From worker 8:\tjbest_ens => 0.67\n",
      "      From worker 4:\tjsuper_ens => 0.67\n",
      "      From worker 2:\tjsuper_ens => 0.83\n",
      "      From worker 8:\tjsuper_ens => 0.5\n",
      "      From worker 2:\tskl_extratree => 0.67\n",
      "      From worker 2:\tskl_extratree => 0.83\n",
      "      From worker 4:\tskl_extratree => 0.83\n",
      "      From worker 8:\tskl_extratree => 0.83\n",
      "      From worker 4:\tskl_extratree => 0.83\n",
      "      From worker 8:\tskl_extratree => 0.83\n",
      "      From worker 9:\tskl_extratree => 0.67\n",
      "      From worker 9:\tskl_extratree => 0.83\n",
      "      From worker 7:\tskl_extratree => 0.83\n",
      "      From worker 7:\tskl_extratree => 0.83\n",
      "      From worker 7:\tjsuper_ens => 0.83\n",
      "      From worker 9:\tskl_knn => 0.67\n",
      "      From worker 9:\tskl_knn => 0.67\n",
      "      From worker 2:\tskl_knn => 0.67\n",
      "      From worker 4:\tskl_knn => 0.67\n",
      "      From worker 4:\tskl_knn => 0.67\n",
      "      From worker 2:\tskl_knn => 0.67\n",
      "      From worker 7:\tskl_knn => 0.67\n",
      "      From worker 7:\tskl_knn => 0.67\n",
      "      From worker 8:\tskl_knn => 0.67\n",
      "      From worker 8:\tskl_knn => 0.67\n"
     ]
    },
    {
     "data": {
      "text/html": [
       "<table class=\"data-frame\"><thead><tr><th></th><th>model</th><th>max</th><th>median</th><th>iqr</th><th>trials</th></tr><tr><th></th><th>Any</th><th>Any</th><th>Any</th><th>Any</th><th>Any</th></tr></thead><tbody><p>13 rows × 5 columns</p><tr><th>1</th><td>jbest_ens</td><td>0.83</td><td>0.58</td><td>0.17</td><td>10</td></tr><tr><th>2</th><td>skl_extratree</td><td>0.83</td><td>0.83</td><td>0.0</td><td>10</td></tr><tr><th>3</th><td>crt_rf</td><td>0.83</td><td>0.83</td><td>0.0</td><td>10</td></tr><tr><th>4</th><td>crt_treebag</td><td>0.83</td><td>0.83</td><td>0.0</td><td>10</td></tr><tr><th>5</th><td>skl_gb</td><td>0.83</td><td>0.83</td><td>0.0</td><td>10</td></tr><tr><th>6</th><td>crt_svmlinear</td><td>0.83</td><td>0.83</td><td>0.0</td><td>10</td></tr><tr><th>7</th><td>jsuper_ens</td><td>0.83</td><td>0.67</td><td>0.29</td><td>10</td></tr><tr><th>8</th><td>jrf</td><td>0.67</td><td>0.67</td><td>0.0</td><td>10</td></tr><tr><th>9</th><td>jvote_ens</td><td>0.67</td><td>0.67</td><td>0.0</td><td>10</td></tr><tr><th>10</th><td>skl_knn</td><td>0.67</td><td>0.67</td><td>0.0</td><td>10</td></tr><tr><th>11</th><td>jstack_ens</td><td>0.5</td><td>0.33</td><td>0.0</td><td>10</td></tr><tr><th>12</th><td>crt_rpart</td><td>0.33</td><td>0.33</td><td>0.0</td><td>10</td></tr><tr><th>13</th><td>jada</td><td>0.33</td><td>0.33</td><td>0.0</td><td>10</td></tr></tbody></table>"
      ],
      "text/latex": [
       "\\begin{tabular}{r|ccccc}\n",
       "\t& model & max & median & iqr & trials\\\\\n",
       "\t\\hline\n",
       "\t& Any & Any & Any & Any & Any\\\\\n",
       "\t\\hline\n",
       "\t1 & jbest\\_ens & 0.83 & 0.58 & 0.17 & 10 \\\\\n",
       "\t2 & skl\\_extratree & 0.83 & 0.83 & 0.0 & 10 \\\\\n",
       "\t3 & crt\\_rf & 0.83 & 0.83 & 0.0 & 10 \\\\\n",
       "\t4 & crt\\_treebag & 0.83 & 0.83 & 0.0 & 10 \\\\\n",
       "\t5 & skl\\_gb & 0.83 & 0.83 & 0.0 & 10 \\\\\n",
       "\t6 & crt\\_svmlinear & 0.83 & 0.83 & 0.0 & 10 \\\\\n",
       "\t7 & jsuper\\_ens & 0.83 & 0.67 & 0.29 & 10 \\\\\n",
       "\t8 & jrf & 0.67 & 0.67 & 0.0 & 10 \\\\\n",
       "\t9 & jvote\\_ens & 0.67 & 0.67 & 0.0 & 10 \\\\\n",
       "\t10 & skl\\_knn & 0.67 & 0.67 & 0.0 & 10 \\\\\n",
       "\t11 & jstack\\_ens & 0.5 & 0.33 & 0.0 & 10 \\\\\n",
       "\t12 & crt\\_rpart & 0.33 & 0.33 & 0.0 & 10 \\\\\n",
       "\t13 & jada & 0.33 & 0.33 & 0.0 & 10 \\\\\n",
       "\\end{tabular}\n"
      ],
      "text/plain": [
       "13×5 DataFrame\n",
       "│ Row │ model         │ max  │ median │ iqr  │ trials │\n",
       "│     │ \u001b[90mAny\u001b[39m           │ \u001b[90mAny\u001b[39m  │ \u001b[90mAny\u001b[39m    │ \u001b[90mAny\u001b[39m  │ \u001b[90mAny\u001b[39m    │\n",
       "├─────┼───────────────┼──────┼────────┼──────┼────────┤\n",
       "│ 1   │ jbest_ens     │ 0.83 │ 0.58   │ 0.17 │ 10     │\n",
       "│ 2   │ skl_extratree │ 0.83 │ 0.83   │ 0.0  │ 10     │\n",
       "│ 3   │ crt_rf        │ 0.83 │ 0.83   │ 0.0  │ 10     │\n",
       "│ 4   │ crt_treebag   │ 0.83 │ 0.83   │ 0.0  │ 10     │\n",
       "│ 5   │ skl_gb        │ 0.83 │ 0.83   │ 0.0  │ 10     │\n",
       "│ 6   │ crt_svmlinear │ 0.83 │ 0.83   │ 0.0  │ 10     │\n",
       "│ 7   │ jsuper_ens    │ 0.83 │ 0.67   │ 0.29 │ 10     │\n",
       "│ 8   │ jrf           │ 0.67 │ 0.67   │ 0.0  │ 10     │\n",
       "│ 9   │ jvote_ens     │ 0.67 │ 0.67   │ 0.0  │ 10     │\n",
       "│ 10  │ skl_knn       │ 0.67 │ 0.67   │ 0.0  │ 10     │\n",
       "│ 11  │ jstack_ens    │ 0.5  │ 0.33   │ 0.0  │ 10     │\n",
       "│ 12  │ crt_rpart     │ 0.33 │ 0.33   │ 0.0  │ 10     │\n",
       "│ 13  │ jada          │ 0.33 │ 0.33   │ 0.0  │ 10     │"
      ]
     },
     "execution_count": 120,
     "metadata": {},
     "output_type": "execute_result"
    }
   ],
   "source": [
    "function runme()\n",
    "    learners=Dict(\n",
    "      :jvote_ens=>jvote_ens,:jstack_ens=>jstack_ens,:jbest_ens=>jbest_ens,\n",
    "      :jrf => jrf,:jada=>jada,:jsuper_ens=>jsuper_ens,\n",
    "      :crt_svmlinear=>caret_svmlinear,:crt_treebag=>caret_treebag,:crt_rpart=>caret_rpart,:crt_rf=>caret_rf,\n",
    "      :skl_knn=>sk_knn,:skl_gb=>sk_gb,:skl_extratree=>sk_extratree\n",
    "    )\n",
    "\n",
    "    models=collect(keys(learners))\n",
    "    trials=10\n",
    "    ctable=@distributed (vcat) for model in models\n",
    "        acc=@distributed (vcat) for i=1:trials\n",
    "            Random.seed!(i*i)\n",
    "            res=getprediction(learners[model],data)\n",
    "            println(model,\" => \",round(res,digits=2))\n",
    "            res\n",
    "        end\n",
    "        [model round(maximum(acc),digits=2) round(median(acc),digits=2) round(iqr(acc),digits=2) length(acc)]\n",
    "    end\n",
    "    sorted=sort(DataFrame(ctable),:x2,rev=true)\n",
    "    rename!(sorted,Dict(:x1=>:model,:x2=>:max,:x3=>:median,:x4=>:iqr,:x5=>:trials))\n",
    "    return sorted\n",
    "end\n",
    "runme()"
   ]
  },
  {
   "cell_type": "code",
   "execution_count": null,
   "metadata": {},
   "outputs": [],
   "source": []
  }
 ],
 "metadata": {
  "@webio": {
   "lastCommId": null,
   "lastKernelId": null
  },
  "celltoolbar": "Slideshow",
  "kernelspec": {
   "display_name": "JuliaTSML",
   "language": "julia",
   "name": "juliatsml"
  },
  "language_info": {
   "file_extension": ".jl",
   "mimetype": "application/julia",
   "name": "julia",
   "version": "1.1.1"
  }
 },
 "nbformat": 4,
 "nbformat_minor": 2
}
