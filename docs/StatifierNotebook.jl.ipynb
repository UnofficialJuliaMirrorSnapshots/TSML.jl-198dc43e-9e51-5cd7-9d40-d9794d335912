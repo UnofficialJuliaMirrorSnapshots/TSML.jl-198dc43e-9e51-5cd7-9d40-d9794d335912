{
 "cells": [
  {
   "cell_type": "code",
   "execution_count": 2,
   "metadata": {},
   "outputs": [],
   "source": [
    "using TSML\n",
    "using TSML.Utils\n",
    "using TSML.TSMLTypes\n",
    "using TSML.TSMLTransformers\n",
    "using TSML.Statifiers\n",
    "using TSML.DataReaders\n",
    "using DataFrames\n",
    "using Dates\n",
    "using Random"
   ]
  },
  {
   "cell_type": "markdown",
   "metadata": {},
   "source": [
    "## Introduce some missing data"
   ]
  },
  {
   "cell_type": "code",
   "execution_count": 17,
   "metadata": {},
   "outputs": [
    {
     "data": {
      "text/html": [
       "<table class=\"data-frame\"><thead><tr><th></th><th>Date</th><th>Value</th></tr><tr><th></th><th>DateTime</th><th>Int64⍰</th></tr></thead><tbody><p>10 rows × 2 columns</p><tr><th>1</th><td>2017-12-31T01:00:00</td><td>missing</td></tr><tr><th>2</th><td>2017-12-31T02:00:00</td><td>5</td></tr><tr><th>3</th><td>2017-12-31T03:00:00</td><td>3</td></tr><tr><th>4</th><td>2017-12-31T04:00:00</td><td>2</td></tr><tr><th>5</th><td>2017-12-31T05:00:00</td><td>missing</td></tr><tr><th>6</th><td>2017-12-31T06:00:00</td><td>missing</td></tr><tr><th>7</th><td>2017-12-31T07:00:00</td><td>missing</td></tr><tr><th>8</th><td>2017-12-31T08:00:00</td><td>2</td></tr><tr><th>9</th><td>2017-12-31T09:00:00</td><td>1</td></tr><tr><th>10</th><td>2017-12-31T10:00:00</td><td>5</td></tr></tbody></table>"
      ],
      "text/latex": [
       "\\begin{tabular}{r|cc}\n",
       "\t& Date & Value\\\\\n",
       "\t\\hline\n",
       "\t& DateTime & Int64⍰\\\\\n",
       "\t\\hline\n",
       "\t1 & 2017-12-31T01:00:00 &  \\\\\n",
       "\t2 & 2017-12-31T02:00:00 & 5 \\\\\n",
       "\t3 & 2017-12-31T03:00:00 & 3 \\\\\n",
       "\t4 & 2017-12-31T04:00:00 & 2 \\\\\n",
       "\t5 & 2017-12-31T05:00:00 &  \\\\\n",
       "\t6 & 2017-12-31T06:00:00 &  \\\\\n",
       "\t7 & 2017-12-31T07:00:00 &  \\\\\n",
       "\t8 & 2017-12-31T08:00:00 & 2 \\\\\n",
       "\t9 & 2017-12-31T09:00:00 & 1 \\\\\n",
       "\t10 & 2017-12-31T10:00:00 & 5 \\\\\n",
       "\\end{tabular}\n"
      ],
      "text/plain": [
       "10×2 DataFrame\n",
       "│ Row │ Date                │ Value   │\n",
       "│     │ \u001b[90mDateTime\u001b[39m            │ \u001b[90mInt64⍰\u001b[39m  │\n",
       "├─────┼─────────────────────┼─────────┤\n",
       "│ 1   │ 2017-12-31T01:00:00 │ \u001b[90mmissing\u001b[39m │\n",
       "│ 2   │ 2017-12-31T02:00:00 │ 5       │\n",
       "│ 3   │ 2017-12-31T03:00:00 │ 3       │\n",
       "│ 4   │ 2017-12-31T04:00:00 │ 2       │\n",
       "│ 5   │ 2017-12-31T05:00:00 │ \u001b[90mmissing\u001b[39m │\n",
       "│ 6   │ 2017-12-31T06:00:00 │ \u001b[90mmissing\u001b[39m │\n",
       "│ 7   │ 2017-12-31T07:00:00 │ \u001b[90mmissing\u001b[39m │\n",
       "│ 8   │ 2017-12-31T08:00:00 │ 2       │\n",
       "│ 9   │ 2017-12-31T09:00:00 │ 1       │\n",
       "│ 10  │ 2017-12-31T10:00:00 │ 5       │"
      ]
     },
     "execution_count": 17,
     "metadata": {},
     "output_type": "execute_result"
    }
   ],
   "source": [
    "Random.seed!(123)\n",
    "dt=[missing;rand(1:10,3);missing;missing;missing;rand(1:5,3)]\n",
    "dat = DataFrame(Date= DateTime(2017,12,31,1):Dates.Hour(1):DateTime(2017,12,31,10) |> collect,Value = dt)"
   ]
  },
  {
   "cell_type": "markdown",
   "metadata": {},
   "source": [
    "## Get statistics including blocks of missing data"
   ]
  },
  {
   "cell_type": "code",
   "execution_count": 22,
   "metadata": {},
   "outputs": [
    {
     "data": {
      "text/html": [
       "<table class=\"data-frame\"><thead><tr><th></th><th>median</th><th>mean</th><th>q25</th><th>q75</th><th>kurtosis</th><th>skewness</th><th>variation</th><th>entropy</th><th>autocor</th><th>pacf</th><th>bmedian</th><th>bmean</th><th>bq25</th><th>bq75</th><th>bmiss</th><th>bmin</th><th>bmax</th></tr><tr><th></th><th>Float64</th><th>Float64</th><th>Float64</th><th>Float64</th><th>Float64</th><th>Float64</th><th>Float64</th><th>Float64</th><th>Float64</th><th>Float64</th><th>Float64</th><th>Float64</th><th>Float64</th><th>Float64</th><th>Int64</th><th>Float64</th><th>Float64</th></tr></thead><tbody><p>1 rows × 17 columns</p><tr><th>1</th><td>2.5</td><td>3.0</td><td>2.0</td><td>4.5</td><td>-1.46939</td><td>0.280566</td><td>0.557773</td><td>-22.1628</td><td>0.520008</td><td>1.67811</td><td>2.0</td><td>2.0</td><td>1.5</td><td>2.5</td><td>0</td><td>1.0</td><td>3.0</td></tr></tbody></table>"
      ],
      "text/latex": [
       "\\begin{tabular}{r|ccccccccccccccccc}\n",
       "\t& median & mean & q25 & q75 & kurtosis & skewness & variation & entropy & autocor & pacf & bmedian & bmean & bq25 & bq75 & bmiss & bmin & bmax\\\\\n",
       "\t\\hline\n",
       "\t& Float64 & Float64 & Float64 & Float64 & Float64 & Float64 & Float64 & Float64 & Float64 & Float64 & Float64 & Float64 & Float64 & Float64 & Int64 & Float64 & Float64\\\\\n",
       "\t\\hline\n",
       "\t1 & 2.5 & 3.0 & 2.0 & 4.5 & -1.46939 & 0.280566 & 0.557773 & -22.1628 & 0.520008 & 1.67811 & 2.0 & 2.0 & 1.5 & 2.5 & 0 & 1.0 & 3.0 \\\\\n",
       "\\end{tabular}\n"
      ],
      "text/plain": [
       "1×17 DataFrame. Omitted printing of 11 columns\n",
       "│ Row │ median  │ mean    │ q25     │ q75     │ kurtosis │ skewness │\n",
       "│     │ \u001b[90mFloat64\u001b[39m │ \u001b[90mFloat64\u001b[39m │ \u001b[90mFloat64\u001b[39m │ \u001b[90mFloat64\u001b[39m │ \u001b[90mFloat64\u001b[39m  │ \u001b[90mFloat64\u001b[39m  │\n",
       "├─────┼─────────┼─────────┼─────────┼─────────┼──────────┼──────────┤\n",
       "│ 1   │ 2.5     │ 3.0     │ 2.0     │ 4.5     │ -1.46939 │ 0.280566 │"
      ]
     },
     "execution_count": 22,
     "metadata": {},
     "output_type": "execute_result"
    }
   ],
   "source": [
    "statfier = Statifier(Dict(:processmissing=>true))\n",
    "fit!(statfier,dat)\n",
    "res=transform!(statfier,dat)"
   ]
  },
  {
   "cell_type": "markdown",
   "metadata": {},
   "source": [
    "## Try real data; aggregate by hour"
   ]
  },
  {
   "cell_type": "code",
   "execution_count": 14,
   "metadata": {},
   "outputs": [
    {
     "data": {
      "text/plain": [
       "Statifier(nothing, Dict(:processmissing=>true))"
      ]
     },
     "execution_count": 14,
     "metadata": {},
     "output_type": "execute_result"
    }
   ],
   "source": [
    "fname = joinpath(dirname(pathof(TSML)),\"../data/testdata.csv\")\n",
    "csvfilter = DataReader(Dict(:filename=>fname,:dateformat=>\"dd/mm/yyyy HH:MM\"))\n",
    "valgator = DateValgator(Dict(:dateinterval=>Dates.Hour(1)))\n",
    "valnner = DateValNNer(Dict(:dateinterval=>Dates.Hour(1)))\n",
    "stfier = Statifier(Dict(:processmissing=>true))"
   ]
  },
  {
   "cell_type": "markdown",
   "metadata": {},
   "source": [
    "## Get statistics including blocks of missing data"
   ]
  },
  {
   "cell_type": "code",
   "execution_count": 19,
   "metadata": {},
   "outputs": [
    {
     "data": {
      "text/html": [
       "<table class=\"data-frame\"><thead><tr><th></th><th>median</th><th>mean</th><th>q25</th><th>q75</th><th>kurtosis</th><th>skewness</th><th>variation</th><th>entropy</th><th>autocor</th><th>pacf</th><th>bmedian</th><th>bmean</th><th>bq25</th><th>bq75</th><th>bmiss</th><th>bmin</th><th>bmax</th></tr><tr><th></th><th>Float64</th><th>Float64</th><th>Float64</th><th>Float64</th><th>Float64</th><th>Float64</th><th>Float64</th><th>Float64</th><th>Float64</th><th>Float64</th><th>Float64</th><th>Float64</th><th>Float64</th><th>Float64</th><th>Int64</th><th>Float64</th><th>Float64</th></tr></thead><tbody><p>1 rows × 17 columns</p><tr><th>1</th><td>10.35</td><td>11.557</td><td>10.0</td><td>12.3</td><td>0.730635</td><td>1.41283</td><td>0.200055</td><td>-1.09145e5</td><td>4.39315</td><td>1.04766</td><td>5.0</td><td>10.5589</td><td>3.0</td><td>6.0</td><td>0</td><td>1.0</td><td>2380.0</td></tr></tbody></table>"
      ],
      "text/latex": [
       "\\begin{tabular}{r|ccccccccccccccccc}\n",
       "\t& median & mean & q25 & q75 & kurtosis & skewness & variation & entropy & autocor & pacf & bmedian & bmean & bq25 & bq75 & bmiss & bmin & bmax\\\\\n",
       "\t\\hline\n",
       "\t& Float64 & Float64 & Float64 & Float64 & Float64 & Float64 & Float64 & Float64 & Float64 & Float64 & Float64 & Float64 & Float64 & Float64 & Int64 & Float64 & Float64\\\\\n",
       "\t\\hline\n",
       "\t1 & 10.35 & 11.557 & 10.0 & 12.3 & 0.730635 & 1.41283 & 0.200055 & -1.09145e5 & 4.39315 & 1.04766 & 5.0 & 10.5589 & 3.0 & 6.0 & 0 & 1.0 & 2380.0 \\\\\n",
       "\\end{tabular}\n"
      ],
      "text/plain": [
       "1×17 DataFrame. Omitted printing of 11 columns\n",
       "│ Row │ median  │ mean    │ q25     │ q75     │ kurtosis │ skewness │\n",
       "│     │ \u001b[90mFloat64\u001b[39m │ \u001b[90mFloat64\u001b[39m │ \u001b[90mFloat64\u001b[39m │ \u001b[90mFloat64\u001b[39m │ \u001b[90mFloat64\u001b[39m  │ \u001b[90mFloat64\u001b[39m  │\n",
       "├─────┼─────────┼─────────┼─────────┼─────────┼──────────┼──────────┤\n",
       "│ 1   │ 10.35   │ 11.557  │ 10.0    │ 12.3    │ 0.730635 │ 1.41283  │"
      ]
     },
     "execution_count": 19,
     "metadata": {},
     "output_type": "execute_result"
    }
   ],
   "source": [
    "mpipeline1 = Pipeline(Dict(\n",
    "  :transformers => [csvfilter,valgator,stfier]\n",
    " )\n",
    ")\n",
    "fit!(mpipeline1)\n",
    "respipe1 = transform!(mpipeline1)"
   ]
  },
  {
   "cell_type": "markdown",
   "metadata": {},
   "source": [
    "## Try imputing and get statistics"
   ]
  },
  {
   "cell_type": "code",
   "execution_count": 21,
   "metadata": {},
   "outputs": [
    {
     "data": {
      "text/html": [
       "<table class=\"data-frame\"><thead><tr><th></th><th>median</th><th>mean</th><th>q25</th><th>q75</th><th>kurtosis</th><th>skewness</th><th>variation</th><th>entropy</th><th>autocor</th><th>pacf</th><th>bmedian</th><th>bmean</th><th>bq25</th><th>bq75</th><th>bmiss</th><th>bmin</th><th>bmax</th></tr><tr><th></th><th>Float64</th><th>Float64</th><th>Float64</th><th>Float64</th><th>Float64</th><th>Float64</th><th>Float64</th><th>Float64</th><th>Float64</th><th>Float64</th><th>Float64</th><th>Float64</th><th>Float64</th><th>Float64</th><th>Int64</th><th>Float64</th><th>Float64</th></tr></thead><tbody><p>1 rows × 17 columns</p><tr><th>1</th><td>10.0</td><td>11.1362</td><td>10.0</td><td>11.5</td><td>2.37274</td><td>1.87452</td><td>0.187997</td><td>-2.36714e5</td><td>4.47886</td><td>1.06997</td><td>NaN</td><td>NaN</td><td>NaN</td><td>NaN</td><td>0</td><td>NaN</td><td>NaN</td></tr></tbody></table>"
      ],
      "text/latex": [
       "\\begin{tabular}{r|ccccccccccccccccc}\n",
       "\t& median & mean & q25 & q75 & kurtosis & skewness & variation & entropy & autocor & pacf & bmedian & bmean & bq25 & bq75 & bmiss & bmin & bmax\\\\\n",
       "\t\\hline\n",
       "\t& Float64 & Float64 & Float64 & Float64 & Float64 & Float64 & Float64 & Float64 & Float64 & Float64 & Float64 & Float64 & Float64 & Float64 & Int64 & Float64 & Float64\\\\\n",
       "\t\\hline\n",
       "\t1 & 10.0 & 11.1362 & 10.0 & 11.5 & 2.37274 & 1.87452 & 0.187997 & -2.36714e5 & 4.47886 & 1.06997 & NaN & NaN & NaN & NaN & 0 & NaN & NaN \\\\\n",
       "\\end{tabular}\n"
      ],
      "text/plain": [
       "1×17 DataFrame. Omitted printing of 11 columns\n",
       "│ Row │ median  │ mean    │ q25     │ q75     │ kurtosis │ skewness │\n",
       "│     │ \u001b[90mFloat64\u001b[39m │ \u001b[90mFloat64\u001b[39m │ \u001b[90mFloat64\u001b[39m │ \u001b[90mFloat64\u001b[39m │ \u001b[90mFloat64\u001b[39m  │ \u001b[90mFloat64\u001b[39m  │\n",
       "├─────┼─────────┼─────────┼─────────┼─────────┼──────────┼──────────┤\n",
       "│ 1   │ 10.0    │ 11.1362 │ 10.0    │ 11.5    │ 2.37274  │ 1.87452  │"
      ]
     },
     "execution_count": 21,
     "metadata": {},
     "output_type": "execute_result"
    }
   ],
   "source": [
    "mpipeline2 = Pipeline(Dict(\n",
    "  :transformers => [csvfilter,valgator,valnner,stfier]\n",
    " )\n",
    ")\n",
    "fit!(mpipeline2)\n",
    "respipe2 = transform!(mpipeline2)"
   ]
  },
  {
   "cell_type": "code",
   "execution_count": null,
   "metadata": {},
   "outputs": [],
   "source": []
  }
 ],
 "metadata": {
  "kernelspec": {
   "display_name": "Julia 1.0.3",
   "language": "julia",
   "name": "julia-1.0"
  },
  "language_info": {
   "file_extension": ".jl",
   "mimetype": "application/julia",
   "name": "julia",
   "version": "1.0.3"
  }
 },
 "nbformat": 4,
 "nbformat_minor": 2
}
