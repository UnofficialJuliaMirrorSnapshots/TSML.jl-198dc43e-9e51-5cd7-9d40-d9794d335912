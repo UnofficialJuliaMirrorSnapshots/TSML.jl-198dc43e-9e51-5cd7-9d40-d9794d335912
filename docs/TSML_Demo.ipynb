{
 "cells": [
  {
   "cell_type": "code",
   "execution_count": 1,
   "metadata": {},
   "outputs": [
    {
     "name": "stderr",
     "output_type": "stream",
     "text": [
      "┌ Info: Precompiling TSML [198dc43e-9e51-5cd7-9d40-d9794d335912]\n",
      "└ @ Base loading.jl:1192\n"
     ]
    }
   ],
   "source": [
    "using TSML"
   ]
  },
  {
   "cell_type": "code",
   "execution_count": 3,
   "metadata": {},
   "outputs": [],
   "source": [
    "using TSML\n",
    "using TSML.TSMLTransformers\n",
    "using DataFrames\n",
    "using Dates\n",
    "using CSV\n",
    "using Plots\n",
    "using GR\n",
    "using Random"
   ]
  },
  {
   "cell_type": "code",
   "execution_count": 4,
   "metadata": {},
   "outputs": [
    {
     "data": {
      "text/plain": [
       "DateValNNer(nothing, Dict{Symbol,Any}(:strict=>true,:dateinterval=>1 hour,:nnsize=>1,:missdirection=>:symmetric))"
      ]
     },
     "execution_count": 4,
     "metadata": {},
     "output_type": "execute_result"
    }
   ],
   "source": [
    "fname =\"testdata.csv\"\n",
    "dat = CSV.read(fname)\n",
    "rename!(dat,names(dat)[1]=>:Date,names(dat)[2]=>:Value)\n",
    "dat[:Date] = DateTime.(dat[:Date],\"d/m/y H:M\")\n",
    "orig = deepcopy(dat)\n",
    "filter1 = DateValgator()\n",
    "filter2 = DateValNNer(Dict(:nnsize=>1))"
   ]
  },
  {
   "cell_type": "code",
   "execution_count": 5,
   "metadata": {},
   "outputs": [
    {
     "data": {
      "text/plain": [
       "(5×2 DataFrame\n",
       "│ Row │ Date                │ Value    │\n",
       "│     │ \u001b[90mDateTime\u001b[39m            │ \u001b[90mFloat64⍰\u001b[39m │\n",
       "├─────┼─────────────────────┼──────────┤\n",
       "│ 1   │ 2014-01-01T00:00:00 │ 10.0     │\n",
       "│ 2   │ 2014-01-01T01:00:00 │ 9.9      │\n",
       "│ 3   │ 2014-01-01T02:00:00 │ 10.0     │\n",
       "│ 4   │ 2014-01-01T03:00:00 │ 10.0     │\n",
       "│ 5   │ 2014-01-01T04:00:00 │ 10.0     │, 8761)"
      ]
     },
     "execution_count": 5,
     "metadata": {},
     "output_type": "execute_result"
    }
   ],
   "source": [
    "fit!(filter1,dat,[])\n",
    "res1=transform!(filter1,dat)\n",
    "(first(res1,5),size(res1,1))"
   ]
  },
  {
   "cell_type": "code",
   "execution_count": 6,
   "metadata": {},
   "outputs": [
    {
     "data": {
      "text/plain": [
       "(5×2 DataFrame\n",
       "│ Row │ Date                │ Value    │\n",
       "│     │ \u001b[90mDateTime\u001b[39m            │ \u001b[90mFloat64⍰\u001b[39m │\n",
       "├─────┼─────────────────────┼──────────┤\n",
       "│ 1   │ 2014-01-01T00:00:00 │ 10.0     │\n",
       "│ 2   │ 2014-01-01T01:00:00 │ 9.9      │\n",
       "│ 3   │ 2014-01-01T02:00:00 │ 10.0     │\n",
       "│ 4   │ 2014-01-01T03:00:00 │ 10.0     │\n",
       "│ 5   │ 2014-01-01T04:00:00 │ 10.0     │, 8761)"
      ]
     },
     "execution_count": 6,
     "metadata": {},
     "output_type": "execute_result"
    }
   ],
   "source": [
    "fit!(filter2,res1,[])\n",
    "res2=transform!(filter2,res1)\n",
    "(first(res2,5),size(res2,1))"
   ]
  },
  {
   "cell_type": "code",
   "execution_count": 7,
   "metadata": {},
   "outputs": [
    {
     "data": {
      "text/plain": [
       "Pipeline(nothing, Dict{Symbol,Union{Nothing, Array{Transformer,1}}}(:transformers=>Transformer[DateValgator(Dict{Symbol,Any}(:dateinterval=>1 hour), Dict{Symbol,Any}(:dateinterval=>1 hour)), DateValNNer(Dict{Symbol,Any}(:loopcount=>1,:strict=>true,:dateinterval=>1 hour,:missingcount=>4931,:nnsize=>1,:missdirection=>:symmetric), Dict{Symbol,Any}(:loopcount=>1,:strict=>true,:dateinterval=>1 hour,:missingcount=>4931,:nnsize=>1,:missdirection=>:symmetric))],:transformer_args=>nothing))"
      ]
     },
     "execution_count": 7,
     "metadata": {},
     "output_type": "execute_result"
    }
   ],
   "source": [
    "mypipeline = Pipeline(Dict(\n",
    "        :transformers => [filter1,filter2]\n",
    "    )\n",
    ")"
   ]
  },
  {
   "cell_type": "code",
   "execution_count": 8,
   "metadata": {},
   "outputs": [
    {
     "data": {
      "text/html": [
       "<table class=\"data-frame\"><thead><tr><th></th><th>Date</th><th>Value</th></tr><tr><th></th><th>DateTime</th><th>Float64⍰</th></tr></thead><tbody><p>5 rows × 2 columns</p><tr><th>1</th><td>2014-01-01T00:00:00</td><td>10.0</td></tr><tr><th>2</th><td>2014-01-01T01:00:00</td><td>9.9</td></tr><tr><th>3</th><td>2014-01-01T02:00:00</td><td>10.0</td></tr><tr><th>4</th><td>2014-01-01T03:00:00</td><td>10.0</td></tr><tr><th>5</th><td>2014-01-01T04:00:00</td><td>10.0</td></tr></tbody></table>"
      ],
      "text/latex": [
       "\\begin{tabular}{r|cc}\n",
       "\t& Date & Value\\\\\n",
       "\t\\hline\n",
       "\t& DateTime & Float64⍰\\\\\n",
       "\t\\hline\n",
       "\t1 & 2014-01-01T00:00:00 & 10.0 \\\\\n",
       "\t2 & 2014-01-01T01:00:00 & 9.9 \\\\\n",
       "\t3 & 2014-01-01T02:00:00 & 10.0 \\\\\n",
       "\t4 & 2014-01-01T03:00:00 & 10.0 \\\\\n",
       "\t5 & 2014-01-01T04:00:00 & 10.0 \\\\\n",
       "\\end{tabular}\n"
      ],
      "text/plain": [
       "5×2 DataFrame\n",
       "│ Row │ Date                │ Value    │\n",
       "│     │ \u001b[90mDateTime\u001b[39m            │ \u001b[90mFloat64⍰\u001b[39m │\n",
       "├─────┼─────────────────────┼──────────┤\n",
       "│ 1   │ 2014-01-01T00:00:00 │ 10.0     │\n",
       "│ 2   │ 2014-01-01T01:00:00 │ 9.9      │\n",
       "│ 3   │ 2014-01-01T02:00:00 │ 10.0     │\n",
       "│ 4   │ 2014-01-01T03:00:00 │ 10.0     │\n",
       "│ 5   │ 2014-01-01T04:00:00 │ 10.0     │"
      ]
     },
     "execution_count": 8,
     "metadata": {},
     "output_type": "execute_result"
    }
   ],
   "source": [
    "fit!(mypipeline,dat,[])\n",
    "resp = transform!(mypipeline,dat)\n",
    "first(resp,5)"
   ]
  },
  {
   "cell_type": "code",
   "execution_count": 9,
   "metadata": {},
   "outputs": [
    {
     "data": {
      "text/plain": [
       "transform! (generic function with 28 methods)"
      ]
     },
     "execution_count": 9,
     "metadata": {},
     "output_type": "execute_result"
    }
   ],
   "source": [
    "using TSML.TSMLTypes\n",
    "import TSML.TSMLTypes.fit!\n",
    "import TSML.TSMLTypes.transform!\n",
    "\n",
    "mutable struct CSVDateValReader <: Transformer\n",
    "    model\n",
    "    args\n",
    "    function CSVDateValReader(args=Dict())\n",
    "        default_args = Dict(\n",
    "            :filename => \"\",\n",
    "            :dateformat => \"\"\n",
    "        )\n",
    "        new(nothing,mergedict(default_args,args))\n",
    "    end\n",
    "end\n",
    "function fit!(csvrdr::CSVDateValReader,x::T=[],y::Vector=[]) where {T<:Union{DataFrame,Vector,Matrix}}\n",
    "    fname = csvrdr.args[:filename]\n",
    "    fmt = csvrdr.args[:dateformat]\n",
    "    (fname != \"\" && fmt != \"\") || error(\"missing filename or date format\")\n",
    "    model = csvrdr.args\n",
    "end\n",
    "\n",
    "function transform!(csvrdr::CSVDateValReader,x::T=[]) where {T<:Union{DataFrame,Vector,Matrix}}\n",
    "    fname = csvrdr.args[:filename]\n",
    "    fmt = csvrdr.args[:dateformat]\n",
    "    df = CSV.read(fname)\n",
    "    ncol(df) == 2 || error(\"dataframe should have only two columns: Date,Value\")\n",
    "    rename!(df,names(df)[1]=>:Date,names(df)[2]=>:Value)\n",
    "    df[:Date] = DateTime.(df[:Date],fmt)\n",
    "    df\n",
    "end"
   ]
  },
  {
   "cell_type": "code",
   "execution_count": 10,
   "metadata": {},
   "outputs": [
    {
     "data": {
      "text/html": [
       "<table class=\"data-frame\"><thead><tr><th></th><th>Date</th><th>Value</th></tr><tr><th></th><th>DateTime</th><th>Float64⍰</th></tr></thead><tbody><p>5 rows × 2 columns</p><tr><th>1</th><td>2014-01-01T00:06:00</td><td>10.0</td></tr><tr><th>2</th><td>2014-01-01T00:18:00</td><td>10.0</td></tr><tr><th>3</th><td>2014-01-01T00:29:00</td><td>10.0</td></tr><tr><th>4</th><td>2014-01-01T00:40:00</td><td>9.9</td></tr><tr><th>5</th><td>2014-01-01T00:51:00</td><td>9.9</td></tr></tbody></table>"
      ],
      "text/latex": [
       "\\begin{tabular}{r|cc}\n",
       "\t& Date & Value\\\\\n",
       "\t\\hline\n",
       "\t& DateTime & Float64⍰\\\\\n",
       "\t\\hline\n",
       "\t1 & 2014-01-01T00:06:00 & 10.0 \\\\\n",
       "\t2 & 2014-01-01T00:18:00 & 10.0 \\\\\n",
       "\t3 & 2014-01-01T00:29:00 & 10.0 \\\\\n",
       "\t4 & 2014-01-01T00:40:00 & 9.9 \\\\\n",
       "\t5 & 2014-01-01T00:51:00 & 9.9 \\\\\n",
       "\\end{tabular}\n"
      ],
      "text/plain": [
       "5×2 DataFrame\n",
       "│ Row │ Date                │ Value    │\n",
       "│     │ \u001b[90mDateTime\u001b[39m            │ \u001b[90mFloat64⍰\u001b[39m │\n",
       "├─────┼─────────────────────┼──────────┤\n",
       "│ 1   │ 2014-01-01T00:06:00 │ 10.0     │\n",
       "│ 2   │ 2014-01-01T00:18:00 │ 10.0     │\n",
       "│ 3   │ 2014-01-01T00:29:00 │ 10.0     │\n",
       "│ 4   │ 2014-01-01T00:40:00 │ 9.9      │\n",
       "│ 5   │ 2014-01-01T00:51:00 │ 9.9      │"
      ]
     },
     "execution_count": 10,
     "metadata": {},
     "output_type": "execute_result"
    }
   ],
   "source": [
    "csvreader = CSVDateValReader(Dict(:filename=>\"testdata.csv\",:dateformat=>\"d/m/y H:M\"))\n",
    "fit!(csvreader)\n",
    "res=transform!(csvreader)\n",
    "first(res,5)"
   ]
  },
  {
   "cell_type": "code",
   "execution_count": 11,
   "metadata": {},
   "outputs": [
    {
     "data": {
      "text/html": [
       "<table class=\"data-frame\"><thead><tr><th></th><th>Date</th><th>Value</th></tr><tr><th></th><th>DateTime</th><th>Float64⍰</th></tr></thead><tbody><p>5 rows × 2 columns</p><tr><th>1</th><td>2014-01-01T00:00:00</td><td>10.0</td></tr><tr><th>2</th><td>2014-01-01T01:00:00</td><td>9.9</td></tr><tr><th>3</th><td>2014-01-01T02:00:00</td><td>10.0</td></tr><tr><th>4</th><td>2014-01-01T03:00:00</td><td>10.0</td></tr><tr><th>5</th><td>2014-01-01T04:00:00</td><td>10.0</td></tr></tbody></table>"
      ],
      "text/latex": [
       "\\begin{tabular}{r|cc}\n",
       "\t& Date & Value\\\\\n",
       "\t\\hline\n",
       "\t& DateTime & Float64⍰\\\\\n",
       "\t\\hline\n",
       "\t1 & 2014-01-01T00:00:00 & 10.0 \\\\\n",
       "\t2 & 2014-01-01T01:00:00 & 9.9 \\\\\n",
       "\t3 & 2014-01-01T02:00:00 & 10.0 \\\\\n",
       "\t4 & 2014-01-01T03:00:00 & 10.0 \\\\\n",
       "\t5 & 2014-01-01T04:00:00 & 10.0 \\\\\n",
       "\\end{tabular}\n"
      ],
      "text/plain": [
       "5×2 DataFrame\n",
       "│ Row │ Date                │ Value    │\n",
       "│     │ \u001b[90mDateTime\u001b[39m            │ \u001b[90mFloat64⍰\u001b[39m │\n",
       "├─────┼─────────────────────┼──────────┤\n",
       "│ 1   │ 2014-01-01T00:00:00 │ 10.0     │\n",
       "│ 2   │ 2014-01-01T01:00:00 │ 9.9      │\n",
       "│ 3   │ 2014-01-01T02:00:00 │ 10.0     │\n",
       "│ 4   │ 2014-01-01T03:00:00 │ 10.0     │\n",
       "│ 5   │ 2014-01-01T04:00:00 │ 10.0     │"
      ]
     },
     "execution_count": 11,
     "metadata": {},
     "output_type": "execute_result"
    }
   ],
   "source": [
    "mypipeline = Pipeline(Dict(\n",
    "        :transformers => [csvreader,filter1,filter2]\n",
    "    )\n",
    ")\n",
    "fit!(mypipeline)\n",
    "res=transform!(mypipeline)\n",
    "first(res,5)"
   ]
  },
  {
   "cell_type": "code",
   "execution_count": 12,
   "metadata": {},
   "outputs": [
    {
     "data": {
      "text/plain": [
       "4931"
      ]
     },
     "execution_count": 12,
     "metadata": {},
     "output_type": "execute_result"
    }
   ],
   "source": [
    "filter2.args[:missingcount]"
   ]
  },
  {
   "cell_type": "code",
   "execution_count": 28,
   "metadata": {},
   "outputs": [
    {
     "data": {
      "image/svg+xml": [
       "<?xml version=\"1.0\" encoding=\"utf-8\"?>\n",
       "<svg xmlns=\"http://www.w3.org/2000/svg\" xmlns:xlink=\"http://www.w3.org/1999/xlink\" width=\"600\" height=\"400\" viewBox=\"0 0 2400 1600\">\n",
       "<defs>\n",
       "  <clipPath id=\"clip1200\">\n",
       "    <rect x=\"0\" y=\"0\" width=\"2400\" height=\"1600\"/>\n",
       "  </clipPath>\n",
       "</defs>\n",
       "<polygon clip-path=\"url(#clip1200)\" points=\"\n",
       "0,1600 2400,1600 2400,0 0,0 \n",
       "  \" fill=\"#ffffff\" fill-rule=\"evenodd\" fill-opacity=\"1\"/>\n",
       "<defs>\n",
       "  <clipPath id=\"clip1201\">\n",
       "    <rect x=\"480\" y=\"0\" width=\"1681\" height=\"1600\"/>\n",
       "  </clipPath>\n",
       "</defs>\n",
       "<polygon clip-path=\"url(#clip1200)\" points=\"\n",
       "189.504,1503.47 2321.26,1503.47 2321.26,47.2441 189.504,47.2441 \n",
       "  \" fill=\"#ffffff\" fill-rule=\"evenodd\" fill-opacity=\"1\"/>\n",
       "<defs>\n",
       "  <clipPath id=\"clip1202\">\n",
       "    <rect x=\"189\" y=\"47\" width=\"2133\" height=\"1457\"/>\n",
       "  </clipPath>\n",
       "</defs>\n",
       "<polyline clip-path=\"url(#clip1202)\" style=\"stroke:#000000; stroke-width:2; stroke-opacity:0.1; fill:none\" points=\"\n",
       "  207.939,1503.47 207.939,47.2441 \n",
       "  \"/>\n",
       "<polyline clip-path=\"url(#clip1202)\" style=\"stroke:#000000; stroke-width:2; stroke-opacity:0.1; fill:none\" points=\"\n",
       "  626.916,1503.47 626.916,47.2441 \n",
       "  \"/>\n",
       "<polyline clip-path=\"url(#clip1202)\" style=\"stroke:#000000; stroke-width:2; stroke-opacity:0.1; fill:none\" points=\"\n",
       "  1045.89,1503.47 1045.89,47.2441 \n",
       "  \"/>\n",
       "<polyline clip-path=\"url(#clip1202)\" style=\"stroke:#000000; stroke-width:2; stroke-opacity:0.1; fill:none\" points=\"\n",
       "  1464.87,1503.47 1464.87,47.2441 \n",
       "  \"/>\n",
       "<polyline clip-path=\"url(#clip1202)\" style=\"stroke:#000000; stroke-width:2; stroke-opacity:0.1; fill:none\" points=\"\n",
       "  1883.85,1503.47 1883.85,47.2441 \n",
       "  \"/>\n",
       "<polyline clip-path=\"url(#clip1202)\" style=\"stroke:#000000; stroke-width:2; stroke-opacity:0.1; fill:none\" points=\"\n",
       "  2302.82,1503.47 2302.82,47.2441 \n",
       "  \"/>\n",
       "<polyline clip-path=\"url(#clip1202)\" style=\"stroke:#000000; stroke-width:2; stroke-opacity:0.1; fill:none\" points=\"\n",
       "  189.504,1263.41 2321.26,1263.41 \n",
       "  \"/>\n",
       "<polyline clip-path=\"url(#clip1202)\" style=\"stroke:#000000; stroke-width:2; stroke-opacity:0.1; fill:none\" points=\"\n",
       "  189.504,1019.19 2321.26,1019.19 \n",
       "  \"/>\n",
       "<polyline clip-path=\"url(#clip1202)\" style=\"stroke:#000000; stroke-width:2; stroke-opacity:0.1; fill:none\" points=\"\n",
       "  189.504,774.967 2321.26,774.967 \n",
       "  \"/>\n",
       "<polyline clip-path=\"url(#clip1202)\" style=\"stroke:#000000; stroke-width:2; stroke-opacity:0.1; fill:none\" points=\"\n",
       "  189.504,530.747 2321.26,530.747 \n",
       "  \"/>\n",
       "<polyline clip-path=\"url(#clip1202)\" style=\"stroke:#000000; stroke-width:2; stroke-opacity:0.1; fill:none\" points=\"\n",
       "  189.504,286.527 2321.26,286.527 \n",
       "  \"/>\n",
       "<polyline clip-path=\"url(#clip1200)\" style=\"stroke:#000000; stroke-width:4; stroke-opacity:1; fill:none\" points=\"\n",
       "  189.504,1503.47 2321.26,1503.47 \n",
       "  \"/>\n",
       "<polyline clip-path=\"url(#clip1200)\" style=\"stroke:#000000; stroke-width:4; stroke-opacity:1; fill:none\" points=\"\n",
       "  189.504,1503.47 189.504,47.2441 \n",
       "  \"/>\n",
       "<polyline clip-path=\"url(#clip1200)\" style=\"stroke:#000000; stroke-width:4; stroke-opacity:1; fill:none\" points=\"\n",
       "  207.939,1503.47 207.939,1481.63 \n",
       "  \"/>\n",
       "<polyline clip-path=\"url(#clip1200)\" style=\"stroke:#000000; stroke-width:4; stroke-opacity:1; fill:none\" points=\"\n",
       "  626.916,1503.47 626.916,1481.63 \n",
       "  \"/>\n",
       "<polyline clip-path=\"url(#clip1200)\" style=\"stroke:#000000; stroke-width:4; stroke-opacity:1; fill:none\" points=\"\n",
       "  1045.89,1503.47 1045.89,1481.63 \n",
       "  \"/>\n",
       "<polyline clip-path=\"url(#clip1200)\" style=\"stroke:#000000; stroke-width:4; stroke-opacity:1; fill:none\" points=\"\n",
       "  1464.87,1503.47 1464.87,1481.63 \n",
       "  \"/>\n",
       "<polyline clip-path=\"url(#clip1200)\" style=\"stroke:#000000; stroke-width:4; stroke-opacity:1; fill:none\" points=\"\n",
       "  1883.85,1503.47 1883.85,1481.63 \n",
       "  \"/>\n",
       "<polyline clip-path=\"url(#clip1200)\" style=\"stroke:#000000; stroke-width:4; stroke-opacity:1; fill:none\" points=\"\n",
       "  2302.82,1503.47 2302.82,1481.63 \n",
       "  \"/>\n",
       "<polyline clip-path=\"url(#clip1200)\" style=\"stroke:#000000; stroke-width:4; stroke-opacity:1; fill:none\" points=\"\n",
       "  189.504,1263.41 221.48,1263.41 \n",
       "  \"/>\n",
       "<polyline clip-path=\"url(#clip1200)\" style=\"stroke:#000000; stroke-width:4; stroke-opacity:1; fill:none\" points=\"\n",
       "  189.504,1019.19 221.48,1019.19 \n",
       "  \"/>\n",
       "<polyline clip-path=\"url(#clip1200)\" style=\"stroke:#000000; stroke-width:4; stroke-opacity:1; fill:none\" points=\"\n",
       "  189.504,774.967 221.48,774.967 \n",
       "  \"/>\n",
       "<polyline clip-path=\"url(#clip1200)\" style=\"stroke:#000000; stroke-width:4; stroke-opacity:1; fill:none\" points=\"\n",
       "  189.504,530.747 221.48,530.747 \n",
       "  \"/>\n",
       "<polyline clip-path=\"url(#clip1200)\" style=\"stroke:#000000; stroke-width:4; stroke-opacity:1; fill:none\" points=\"\n",
       "  189.504,286.527 221.48,286.527 \n",
       "  \"/>\n",
       "<g clip-path=\"url(#clip1200)\">\n",
       "<text style=\"fill:#000000; fill-opacity:1; font-family:Arial,Helvetica Neue,Helvetica,sans-serif; font-size:48px; text-anchor:middle;\" transform=\"rotate(0, 207.939, 1557.47)\" x=\"207.939\" y=\"1557.47\">0</text>\n",
       "</g>\n",
       "<g clip-path=\"url(#clip1200)\">\n",
       "<text style=\"fill:#000000; fill-opacity:1; font-family:Arial,Helvetica Neue,Helvetica,sans-serif; font-size:48px; text-anchor:middle;\" transform=\"rotate(0, 626.916, 1557.47)\" x=\"626.916\" y=\"1557.47\">10</text>\n",
       "</g>\n",
       "<g clip-path=\"url(#clip1200)\">\n",
       "<text style=\"fill:#000000; fill-opacity:1; font-family:Arial,Helvetica Neue,Helvetica,sans-serif; font-size:48px; text-anchor:middle;\" transform=\"rotate(0, 1045.89, 1557.47)\" x=\"1045.89\" y=\"1557.47\">20</text>\n",
       "</g>\n",
       "<g clip-path=\"url(#clip1200)\">\n",
       "<text style=\"fill:#000000; fill-opacity:1; font-family:Arial,Helvetica Neue,Helvetica,sans-serif; font-size:48px; text-anchor:middle;\" transform=\"rotate(0, 1464.87, 1557.47)\" x=\"1464.87\" y=\"1557.47\">30</text>\n",
       "</g>\n",
       "<g clip-path=\"url(#clip1200)\">\n",
       "<text style=\"fill:#000000; fill-opacity:1; font-family:Arial,Helvetica Neue,Helvetica,sans-serif; font-size:48px; text-anchor:middle;\" transform=\"rotate(0, 1883.85, 1557.47)\" x=\"1883.85\" y=\"1557.47\">40</text>\n",
       "</g>\n",
       "<g clip-path=\"url(#clip1200)\">\n",
       "<text style=\"fill:#000000; fill-opacity:1; font-family:Arial,Helvetica Neue,Helvetica,sans-serif; font-size:48px; text-anchor:middle;\" transform=\"rotate(0, 2302.82, 1557.47)\" x=\"2302.82\" y=\"1557.47\">50</text>\n",
       "</g>\n",
       "<g clip-path=\"url(#clip1200)\">\n",
       "<text style=\"fill:#000000; fill-opacity:1; font-family:Arial,Helvetica Neue,Helvetica,sans-serif; font-size:48px; text-anchor:end;\" transform=\"rotate(0, 165.504, 1280.91)\" x=\"165.504\" y=\"1280.91\">-1.0</text>\n",
       "</g>\n",
       "<g clip-path=\"url(#clip1200)\">\n",
       "<text style=\"fill:#000000; fill-opacity:1; font-family:Arial,Helvetica Neue,Helvetica,sans-serif; font-size:48px; text-anchor:end;\" transform=\"rotate(0, 165.504, 1036.69)\" x=\"165.504\" y=\"1036.69\">-0.5</text>\n",
       "</g>\n",
       "<g clip-path=\"url(#clip1200)\">\n",
       "<text style=\"fill:#000000; fill-opacity:1; font-family:Arial,Helvetica Neue,Helvetica,sans-serif; font-size:48px; text-anchor:end;\" transform=\"rotate(0, 165.504, 792.467)\" x=\"165.504\" y=\"792.467\">0.0</text>\n",
       "</g>\n",
       "<g clip-path=\"url(#clip1200)\">\n",
       "<text style=\"fill:#000000; fill-opacity:1; font-family:Arial,Helvetica Neue,Helvetica,sans-serif; font-size:48px; text-anchor:end;\" transform=\"rotate(0, 165.504, 548.247)\" x=\"165.504\" y=\"548.247\">0.5</text>\n",
       "</g>\n",
       "<g clip-path=\"url(#clip1200)\">\n",
       "<text style=\"fill:#000000; fill-opacity:1; font-family:Arial,Helvetica Neue,Helvetica,sans-serif; font-size:48px; text-anchor:end;\" transform=\"rotate(0, 165.504, 304.027)\" x=\"165.504\" y=\"304.027\">1.0</text>\n",
       "</g>\n",
       "<polyline clip-path=\"url(#clip1202)\" style=\"stroke:#009af9; stroke-width:4; stroke-opacity:1; fill:none\" points=\"\n",
       "  249.837,381.903 291.735,381.903 333.632,381.903 375.53,661.809 417.428,941.715 459.325,1189.59 501.223,1324.88 543.121,1460.16 585.019,1455.41 626.916,1315.11 \n",
       "  668.814,1073.67 710.712,643.291 752.609,212.909 794.507,212.909 836.405,212.909 878.303,108.973 920.2,163.183 962.098,217.392 1004,693.964 1045.89,1170.54 \n",
       "  1087.79,1170.54 1129.69,1170.54 1171.59,1393.1 1213.48,1450.53 1255.38,1384.5 1297.28,1349.02 1339.18,1031.81 1381.08,731.007 1422.97,430.206 1464.87,430.206 \n",
       "  1506.77,430.206 1548.67,430.206 1590.56,430.206 1632.46,430.206 1674.36,430.206 1716.26,828.136 1758.15,1042.61 1800.05,1257.08 1841.95,1418.1 1883.85,1456.88 \n",
       "  1925.75,1238.93 1967.64,1020.99 2009.54,1020.99 2051.44,784.154 2093.34,547.318 2135.23,311.322 2177.13,148.525 2219.03,93.5948 2260.93,93.5948 \n",
       "  \"/>\n",
       "<polyline clip-path=\"url(#clip1202)\" style=\"stroke:#e26f46; stroke-width:4; stroke-opacity:1; fill:none\" points=\"\n",
       "  249.837,109.082 291.735,192.142 333.632,381.903 375.53,633.72 417.428,907.838 459.325,1160.98 501.223,1353.17 543.121,1454.09 585.019,1447.78 626.916,1335.25 \n",
       "  668.814,1134.26 710.712,876.554 752.609,602.806 794.507,356.237 836.405,175.777 878.303,89.9162 920.2,112.21 962.098,239.138 1004,450.662 1045.89,713.387 \n",
       "  1087.79,985.834 1129.69,1224.99 1171.59,1393.1 1213.48,1462.24 1255.38,1425.41 1297.28,1284.52 1339.18,1063.17 1381.08,796.332 1422.97,526.116 1464.87,295.188 \n",
       "  1506.77,140.007 1548.67,88.4582 1590.56,139.057 1632.46,293.437 1674.36,523.841 1716.26,793.892 1758.15,1060.96 1800.05,1282.87 1841.95,1424.59 1883.85,1462.26 \n",
       "  1925.75,1394.18 1967.64,1226.84 2009.54,988.156 2051.44,715.818 2093.34,452.818 2135.23,240.679 2177.13,112.892 2219.03,89.6318 2260.93,157.566 \n",
       "  \"/>\n",
       "<polygon clip-path=\"url(#clip1200)\" points=\"\n",
       "1958.43,312.204 2249.26,312.204 2249.26,130.764 1958.43,130.764 \n",
       "  \" fill=\"#ffffff\" fill-rule=\"evenodd\" fill-opacity=\"1\"/>\n",
       "<polyline clip-path=\"url(#clip1200)\" style=\"stroke:#000000; stroke-width:4; stroke-opacity:1; fill:none\" points=\"\n",
       "  1958.43,312.204 2249.26,312.204 2249.26,130.764 1958.43,130.764 1958.43,312.204 \n",
       "  \"/>\n",
       "<polyline clip-path=\"url(#clip1200)\" style=\"stroke:#009af9; stroke-width:4; stroke-opacity:1; fill:none\" points=\"\n",
       "  1982.43,191.244 2126.43,191.244 \n",
       "  \"/>\n",
       "<g clip-path=\"url(#clip1200)\">\n",
       "<text style=\"fill:#000000; fill-opacity:1; font-family:Arial,Helvetica Neue,Helvetica,sans-serif; font-size:48px; text-anchor:start;\" transform=\"rotate(0, 2150.43, 208.744)\" x=\"2150.43\" y=\"208.744\">y1</text>\n",
       "</g>\n",
       "<polyline clip-path=\"url(#clip1200)\" style=\"stroke:#e26f46; stroke-width:4; stroke-opacity:1; fill:none\" points=\"\n",
       "  1982.43,251.724 2126.43,251.724 \n",
       "  \"/>\n",
       "<g clip-path=\"url(#clip1200)\">\n",
       "<text style=\"fill:#000000; fill-opacity:1; font-family:Arial,Helvetica Neue,Helvetica,sans-serif; font-size:48px; text-anchor:start;\" transform=\"rotate(0, 2150.43, 269.224)\" x=\"2150.43\" y=\"269.224\">y2</text>\n",
       "</g>\n",
       "</svg>\n"
      ]
     },
     "execution_count": 28,
     "metadata": {},
     "output_type": "execute_result"
    }
   ],
   "source": [
    "mydate=DateTime(2014,1,1):Dates.Minute(15):DateTime(2014,1,3) # 15 minutes interval\n",
    "values = Array{Union{Float64,Missing}}(sin.(1:0.1:length(mydate)) .+ cos.(1:0.1:length(mydate)))[1:length(mydate)];\n",
    "x = DataFrame(Date=mydate,Value=values); xx = deepcopy(x);first(x,10)\n",
    "nmissing=floor(nrow(x) * 0.80) |> Integer\n",
    "ndxmissing=Random.shuffle(1:nrow(x))[1:nmissing]\n",
    "x[:Value][ndxmissing] .= missing; first(x,15)\n",
    "dvtr = TSML.DateValgator()\n",
    "TSML.fit!(dvtr,x,[]);TSML.fit!(dvtr,xx,[])\n",
    "inputx = TSML.transform!(dvtr,x); inputxx = TSML.transform!(dvtr,xx);\n",
    "dvnnr = TSML.DateValNNer(Dict(:dateinterval=>Dates.Hour(1),:nnsize=>1))\n",
    "TSML.fit!(dvnnr,inputx,[])\n",
    "pred_y=TSML.transform!(dvnnr,inputx);pred_yy=TSML.transform!(dvnnr,inputxx);\n",
    "Plots.plot([pred_y[:Value],pred_yy[:Value]])"
   ]
  },
  {
   "cell_type": "code",
   "execution_count": 23,
   "metadata": {},
   "outputs": [
    {
     "data": {
      "text/plain": [
       "0.11213099920208919"
      ]
     },
     "execution_count": 23,
     "metadata": {},
     "output_type": "execute_result"
    }
   ],
   "source": [
    "sqrt(sum(pred_y[:Value]-pred_yy[:Value]).^2)"
   ]
  },
  {
   "cell_type": "code",
   "execution_count": 24,
   "metadata": {},
   "outputs": [],
   "source": [
    "rename!(pred_y,:Value=>:MissingVals);"
   ]
  },
  {
   "cell_type": "code",
   "execution_count": 25,
   "metadata": {},
   "outputs": [
    {
     "data": {
      "text/html": [
       "<table class=\"data-frame\"><thead><tr><th></th><th>Date</th><th>MissingVals</th><th>Value</th><th>error</th></tr><tr><th></th><th>DateTime</th><th>Float64⍰</th><th>Float64⍰</th><th>Float64</th></tr></thead><tbody><p>49 rows × 4 columns</p><tr><th>1</th><td>2014-01-01T00:00:00</td><td>1.36329</td><td>1.36329</td><td>0.0</td></tr><tr><th>2</th><td>2014-01-01T01:00:00</td><td>1.15542</td><td>1.19324</td><td>0.00143036</td></tr><tr><th>3</th><td>2014-01-01T02:00:00</td><td>0.804733</td><td>0.804733</td><td>0.0</td></tr><tr><th>4</th><td>2014-01-01T03:00:00</td><td>0.218896</td><td>0.289179</td><td>0.00493971</td></tr><tr><th>5</th><td>2014-01-01T04:00:00</td><td>-0.269311</td><td>-0.272029</td><td>7.38768e-6</td></tr><tr><th>6</th><td>2014-01-01T05:00:00</td><td>-0.731709</td><td>-0.790291</td><td>0.00343183</td></tr><tr><th>7</th><td>2014-01-01T06:00:00</td><td>-1.28724</td><td>-1.18378</td><td>0.0107035</td></tr><tr><th>8</th><td>2014-01-01T07:00:00</td><td>-1.33928</td><td>-1.39038</td><td>0.00261142</td></tr><tr><th>9</th><td>2014-01-01T08:00:00</td><td>-1.36184</td><td>-1.37747</td><td>0.000244367</td></tr><tr><th>10</th><td>2014-01-01T09:00:00</td><td>-1.01855</td><td>-1.14708</td><td>0.0165213</td></tr><tr><th>11</th><td>2014-01-01T10:00:00</td><td>-0.675262</td><td>-0.735601</td><td>0.0036408</td></tr><tr><th>12</th><td>2014-01-01T11:00:00</td><td>-0.138072</td><td>-0.207982</td><td>0.00488751</td></tr><tr><th>13</th><td>2014-01-01T12:00:00</td><td>0.420917</td><td>0.352472</td><td>0.00468472</td></tr><tr><th>14</th><td>2014-01-01T13:00:00</td><td>0.801106</td><td>0.857279</td><td>0.00315545</td></tr><tr><th>15</th><td>2014-01-01T14:00:00</td><td>1.10973</td><td>1.22674</td><td>0.0136906</td></tr><tr><th>16</th><td>2014-01-01T15:00:00</td><td>1.41089</td><td>1.40253</td><td>6.99229e-5</td></tr><tr><th>17</th><td>2014-01-01T16:00:00</td><td>1.34333</td><td>1.35688</td><td>0.000183807</td></tr><tr><th>18</th><td>2014-01-01T17:00:00</td><td>1.13584</td><td>1.09702</td><td>0.00150689</td></tr><tr><th>19</th><td>2014-01-01T18:00:00</td><td>0.663961</td><td>0.663961</td><td>0.0</td></tr><tr><th>20</th><td>2014-01-01T19:00:00</td><td>0.0556771</td><td>0.126076</td><td>0.00495603</td></tr><tr><th>21</th><td>2014-01-01T20:00:00</td><td>-0.628623</td><td>-0.431713</td><td>0.0387736</td></tr><tr><th>22</th><td>2014-01-01T21:00:00</td><td>-0.867771</td><td>-0.921344</td><td>0.0028701</td></tr><tr><th>23</th><td>2014-01-01T22:00:00</td><td>-1.19657</td><td>-1.26552</td><td>0.00475347</td></tr><tr><th>24</th><td>2014-01-01T23:00:00</td><td>-1.39437</td><td>-1.40708</td><td>0.000161539</td></tr><tr><th>25</th><td>2014-01-02T00:00:00</td><td>-1.30158</td><td>-1.33167</td><td>0.000905688</td></tr><tr><th>26</th><td>2014-01-02T01:00:00</td><td>-0.995565</td><td>-1.04321</td><td>0.00227055</td></tr><tr><th>27</th><td>2014-01-02T02:00:00</td><td>-0.654274</td><td>-0.590056</td><td>0.00412397</td></tr><tr><th>28</th><td>2014-01-02T03:00:00</td><td>0.0269074</td><td>-0.0437399</td><td>0.00499104</td></tr><tr><th>29</th><td>2014-01-02T04:00:00</td><td>0.575404</td><td>0.509482</td><td>0.00434582</td></tr><tr><th>30</th><td>2014-01-02T05:00:00</td><td>0.820588</td><td>0.982267</td><td>0.0261401</td></tr><tr><th>&vellip;</th><td>&vellip;</td><td>&vellip;</td><td>&vellip;</td><td>&vellip;</td></tr></tbody></table>"
      ],
      "text/latex": [
       "\\begin{tabular}{r|cccc}\n",
       "\t& Date & MissingVals & Value & error\\\\\n",
       "\t\\hline\n",
       "\t& DateTime & Float64⍰ & Float64⍰ & Float64\\\\\n",
       "\t\\hline\n",
       "\t1 & 2014-01-01T00:00:00 & 1.36329 & 1.36329 & 0.0 \\\\\n",
       "\t2 & 2014-01-01T01:00:00 & 1.15542 & 1.19324 & 0.00143036 \\\\\n",
       "\t3 & 2014-01-01T02:00:00 & 0.804733 & 0.804733 & 0.0 \\\\\n",
       "\t4 & 2014-01-01T03:00:00 & 0.218896 & 0.289179 & 0.00493971 \\\\\n",
       "\t5 & 2014-01-01T04:00:00 & -0.269311 & -0.272029 & 7.38768e-6 \\\\\n",
       "\t6 & 2014-01-01T05:00:00 & -0.731709 & -0.790291 & 0.00343183 \\\\\n",
       "\t7 & 2014-01-01T06:00:00 & -1.28724 & -1.18378 & 0.0107035 \\\\\n",
       "\t8 & 2014-01-01T07:00:00 & -1.33928 & -1.39038 & 0.00261142 \\\\\n",
       "\t9 & 2014-01-01T08:00:00 & -1.36184 & -1.37747 & 0.000244367 \\\\\n",
       "\t10 & 2014-01-01T09:00:00 & -1.01855 & -1.14708 & 0.0165213 \\\\\n",
       "\t11 & 2014-01-01T10:00:00 & -0.675262 & -0.735601 & 0.0036408 \\\\\n",
       "\t12 & 2014-01-01T11:00:00 & -0.138072 & -0.207982 & 0.00488751 \\\\\n",
       "\t13 & 2014-01-01T12:00:00 & 0.420917 & 0.352472 & 0.00468472 \\\\\n",
       "\t14 & 2014-01-01T13:00:00 & 0.801106 & 0.857279 & 0.00315545 \\\\\n",
       "\t15 & 2014-01-01T14:00:00 & 1.10973 & 1.22674 & 0.0136906 \\\\\n",
       "\t16 & 2014-01-01T15:00:00 & 1.41089 & 1.40253 & 6.99229e-5 \\\\\n",
       "\t17 & 2014-01-01T16:00:00 & 1.34333 & 1.35688 & 0.000183807 \\\\\n",
       "\t18 & 2014-01-01T17:00:00 & 1.13584 & 1.09702 & 0.00150689 \\\\\n",
       "\t19 & 2014-01-01T18:00:00 & 0.663961 & 0.663961 & 0.0 \\\\\n",
       "\t20 & 2014-01-01T19:00:00 & 0.0556771 & 0.126076 & 0.00495603 \\\\\n",
       "\t21 & 2014-01-01T20:00:00 & -0.628623 & -0.431713 & 0.0387736 \\\\\n",
       "\t22 & 2014-01-01T21:00:00 & -0.867771 & -0.921344 & 0.0028701 \\\\\n",
       "\t23 & 2014-01-01T22:00:00 & -1.19657 & -1.26552 & 0.00475347 \\\\\n",
       "\t24 & 2014-01-01T23:00:00 & -1.39437 & -1.40708 & 0.000161539 \\\\\n",
       "\t25 & 2014-01-02T00:00:00 & -1.30158 & -1.33167 & 0.000905688 \\\\\n",
       "\t26 & 2014-01-02T01:00:00 & -0.995565 & -1.04321 & 0.00227055 \\\\\n",
       "\t27 & 2014-01-02T02:00:00 & -0.654274 & -0.590056 & 0.00412397 \\\\\n",
       "\t28 & 2014-01-02T03:00:00 & 0.0269074 & -0.0437399 & 0.00499104 \\\\\n",
       "\t29 & 2014-01-02T04:00:00 & 0.575404 & 0.509482 & 0.00434582 \\\\\n",
       "\t30 & 2014-01-02T05:00:00 & 0.820588 & 0.982267 & 0.0261401 \\\\\n",
       "\t$\\dots$ & $\\dots$ & $\\dots$ & $\\dots$ & $\\dots$ \\\\\n",
       "\\end{tabular}\n"
      ],
      "text/plain": [
       "49×4 DataFrame\n",
       "│ Row │ Date                │ MissingVals │ Value     │ error       │\n",
       "│     │ \u001b[90mDateTime\u001b[39m            │ \u001b[90mFloat64⍰\u001b[39m    │ \u001b[90mFloat64⍰\u001b[39m  │ \u001b[90mFloat64\u001b[39m     │\n",
       "├─────┼─────────────────────┼─────────────┼───────────┼─────────────┤\n",
       "│ 1   │ 2014-01-01T00:00:00 │ 1.36329     │ 1.36329   │ 0.0         │\n",
       "│ 2   │ 2014-01-01T01:00:00 │ 1.15542     │ 1.19324   │ 0.00143036  │\n",
       "│ 3   │ 2014-01-01T02:00:00 │ 0.804733    │ 0.804733  │ 0.0         │\n",
       "│ 4   │ 2014-01-01T03:00:00 │ 0.218896    │ 0.289179  │ 0.00493971  │\n",
       "│ 5   │ 2014-01-01T04:00:00 │ -0.269311   │ -0.272029 │ 7.38768e-6  │\n",
       "│ 6   │ 2014-01-01T05:00:00 │ -0.731709   │ -0.790291 │ 0.00343183  │\n",
       "│ 7   │ 2014-01-01T06:00:00 │ -1.28724    │ -1.18378  │ 0.0107035   │\n",
       "│ 8   │ 2014-01-01T07:00:00 │ -1.33928    │ -1.39038  │ 0.00261142  │\n",
       "│ 9   │ 2014-01-01T08:00:00 │ -1.36184    │ -1.37747  │ 0.000244367 │\n",
       "│ 10  │ 2014-01-01T09:00:00 │ -1.01855    │ -1.14708  │ 0.0165213   │\n",
       "⋮\n",
       "│ 39  │ 2014-01-02T14:00:00 │ -1.34703    │ -1.33     │ 0.000290082 │\n",
       "│ 40  │ 2014-01-02T15:00:00 │ -1.38413    │ -1.40712  │ 0.000528523 │\n",
       "│ 41  │ 2014-01-02T16:00:00 │ -1.23038    │ -1.26773  │ 0.00139453  │\n",
       "│ 42  │ 2014-01-02T17:00:00 │ -0.756186   │ -0.925126 │ 0.0285406   │\n",
       "│ 43  │ 2014-01-02T18:00:00 │ -0.501173   │ -0.436468 │ 0.0041868   │\n",
       "│ 44  │ 2014-01-02T19:00:00 │ 0.121099    │ 0.121099  │ 0.0         │\n",
       "│ 45  │ 2014-01-02T20:00:00 │ 0.597044    │ 0.659546  │ 0.00390652  │\n",
       "│ 46  │ 2014-01-02T21:00:00 │ 1.08294     │ 1.09387   │ 0.000119455 │\n",
       "│ 47  │ 2014-01-02T22:00:00 │ 1.37536     │ 1.35549   │ 0.000394795 │\n",
       "│ 48  │ 2014-01-02T23:00:00 │ 1.41122     │ 1.40311   │ 6.58315e-5  │\n",
       "│ 49  │ 2014-01-03T00:00:00 │ 1.22921     │ 1.26403   │ 0.00121214  │"
      ]
     },
     "execution_count": 25,
     "metadata": {},
     "output_type": "execute_result"
    }
   ],
   "source": [
    "jx = join(pred_y,pred_yy,on=:Date)\n",
    "jx[:error] = (jx[:MissingVals] .- jx[:Value]).^2;jx"
   ]
  }
 ],
 "metadata": {
  "kernelspec": {
   "display_name": "Julia 1.0.3",
   "language": "julia",
   "name": "julia-1.0"
  },
  "language_info": {
   "file_extension": ".jl",
   "mimetype": "application/julia",
   "name": "julia",
   "version": "1.0.3"
  }
 },
 "nbformat": 4,
 "nbformat_minor": 2
}
