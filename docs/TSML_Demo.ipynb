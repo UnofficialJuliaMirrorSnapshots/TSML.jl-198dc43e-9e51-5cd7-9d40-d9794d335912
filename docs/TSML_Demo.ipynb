{
 "cells": [
  {
   "cell_type": "code",
   "execution_count": null,
   "metadata": {},
   "outputs": [],
   "source": [
    "using TSML\n",
    "using DataFrames\n",
    "using Dates\n",
    "using CSV\n",
    "using GR\n",
    "using Random"
   ]
  },
  {
   "cell_type": "code",
   "execution_count": null,
   "metadata": {},
   "outputs": [],
   "source": [
    "fname =\"testdata.csv\"\n",
    "dat = CSV.read(fname)\n",
    "rename!(dat,names(dat)[1]=>:Date,names(dat)[2]=>:Value)\n",
    "dat.Date = DateTime.(dat.Date,\"d/m/y H:M\")\n",
    "orig = deepcopy(dat)\n",
    "filter1 = DateValgator()\n",
    "filter2 = DateValNNer(Dict(:nnsize=>1))"
   ]
  },
  {
   "cell_type": "code",
   "execution_count": null,
   "metadata": {},
   "outputs": [],
   "source": [
    "fit!(filter1,dat,[])\n",
    "res1=transform!(filter1,dat)\n",
    "(first(res1,5),size(res1,1))"
   ]
  },
  {
   "cell_type": "code",
   "execution_count": null,
   "metadata": {},
   "outputs": [],
   "source": [
    "fit!(filter2,res1,[])\n",
    "res2=transform!(filter2,res1)\n",
    "(first(res2,5),size(res2,1))"
   ]
  },
  {
   "cell_type": "code",
   "execution_count": null,
   "metadata": {},
   "outputs": [],
   "source": [
    "mypipeline = Pipeline(Dict(\n",
    "        :transformers => [filter1,filter2]\n",
    "    )\n",
    ")"
   ]
  },
  {
   "cell_type": "code",
   "execution_count": null,
   "metadata": {},
   "outputs": [],
   "source": [
    "fit!(mypipeline,dat,[])\n",
    "resp = transform!(mypipeline,dat)\n",
    "first(resp,5)"
   ]
  },
  {
   "cell_type": "code",
   "execution_count": null,
   "metadata": {},
   "outputs": [],
   "source": [
    "using TSML.TSMLTypes\n",
    "import TSML.TSMLTypes.fit!\n",
    "import TSML.TSMLTypes.transform!\n",
    "\n",
    "mutable struct CSVDateValReader <: Transformer\n",
    "    model\n",
    "    args\n",
    "    function CSVDateValReader(args=Dict())\n",
    "        default_args = Dict(\n",
    "            :filename => \"\",\n",
    "            :dateformat => \"\"\n",
    "        )\n",
    "        new(nothing,mergedict(default_args,args))\n",
    "    end\n",
    "end\n",
    "function fit!(csvrdr::CSVDateValReader,x::T=[],y::Vector=[]) where {T<:Union{DataFrame,Vector,Matrix}}\n",
    "    fname = csvrdr.args[:filename]\n",
    "    fmt = csvrdr.args[:dateformat]\n",
    "    (fname != \"\" && fmt != \"\") || error(\"missing filename or date format\")\n",
    "    model = csvrdr.args\n",
    "end\n",
    "\n",
    "function transform!(csvrdr::CSVDateValReader,x::T=[]) where {T<:Union{DataFrame,Vector,Matrix}}\n",
    "    fname = csvrdr.args[:filename]\n",
    "    fmt = csvrdr.args[:dateformat]\n",
    "    df = CSV.read(fname)\n",
    "    ncol(df) == 2 || error(\"dataframe should have only two columns: Date,Value\")\n",
    "    rename!(df,names(df)[1]=>:Date,names(df)[2]=>:Value)\n",
    "    df[:Date] = DateTime.(df[:Date],fmt)\n",
    "    df\n",
    "end"
   ]
  },
  {
   "cell_type": "code",
   "execution_count": null,
   "metadata": {},
   "outputs": [],
   "source": [
    "csvreader = CSVDateValReader(Dict(:filename=>\"testdata.csv\",:dateformat=>\"d/m/y H:M\"))\n",
    "fit!(csvreader)\n",
    "res=transform!(csvreader)\n",
    "first(res,5)"
   ]
  },
  {
   "cell_type": "code",
   "execution_count": null,
   "metadata": {},
   "outputs": [],
   "source": [
    "mypipeline = Pipeline(Dict(\n",
    "        :transformers => [csvreader,filter1,filter2]\n",
    "    )\n",
    ")\n",
    "fit!(mypipeline)\n",
    "res=transform!(mypipeline)\n",
    "first(res,5)"
   ]
  },
  {
   "cell_type": "code",
   "execution_count": null,
   "metadata": {},
   "outputs": [],
   "source": [
    "filter2.args[:missingcount]"
   ]
  },
  {
   "cell_type": "code",
   "execution_count": null,
   "metadata": {},
   "outputs": [],
   "source": [
    "mydate=DateTime(2014,1,1):Dates.Minute(15):DateTime(2014,1,3) # 15 minutes interval\n",
    "values = Array{Union{Float64,Missing}}(sin.(1:0.1:length(mydate)) .+ cos.(1:0.1:length(mydate)))[1:length(mydate)];\n",
    "x = DataFrame(Date=mydate,Value=values); xx = deepcopy(x);first(x,10)\n",
    "nmissing=floor(nrow(x) * 0.80) |> Integer\n",
    "ndxmissing=Random.shuffle(1:nrow(x))[1:nmissing]\n",
    "x[:Value][ndxmissing] .= missing; first(x,15)\n",
    "dvtr = TSML.DateValgator()\n",
    "TSML.fit!(dvtr,x,[]);TSML.fit!(dvtr,xx,[])\n",
    "inputx = TSML.transform!(dvtr,x); inputxx = TSML.transform!(dvtr,xx);\n",
    "dvnnr = TSML.DateValNNer(Dict(:dateinterval=>Dates.Hour(1),:nnsize=>1))\n",
    "TSML.fit!(dvnnr,inputx,[])\n",
    "pred_y=TSML.transform!(dvnnr,inputx);pred_yy=TSML.transform!(dvnnr,inputxx);"
   ]
  },
  {
   "cell_type": "code",
   "execution_count": null,
   "metadata": {},
   "outputs": [],
   "source": [
    "sqrt(sum(pred_y[:Value]-pred_yy[:Value]).^2)"
   ]
  },
  {
   "cell_type": "code",
   "execution_count": null,
   "metadata": {},
   "outputs": [],
   "source": [
    "rename!(pred_y,:Value=>:MissingVals);"
   ]
  },
  {
   "cell_type": "code",
   "execution_count": null,
   "metadata": {},
   "outputs": [],
   "source": [
    "jx = join(pred_y,pred_yy,on=:Date)\n",
    "jx[:error] = (jx[:MissingVals] .- jx[:Value]).^2;jx"
   ]
  }
 ],
 "metadata": {
  "@webio": {
   "lastCommId": null,
   "lastKernelId": null
  },
  "kernelspec": {
   "display_name": "Julia 1.3.0-alpha",
   "language": "julia",
   "name": "julia-1.3"
  },
  "language_info": {
   "file_extension": ".jl",
   "mimetype": "application/julia",
   "name": "julia",
   "version": "1.3.0"
  }
 },
 "nbformat": 4,
 "nbformat_minor": 2
}
